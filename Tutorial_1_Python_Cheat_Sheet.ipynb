{
  "cells": [
    {
      "cell_type": "markdown",
      "metadata": {
        "id": "view-in-github",
        "colab_type": "text"
      },
      "source": [
        "<a href=\"https://colab.research.google.com/github/mdaugherity/MachineLearning2023/blob/main/Tutorial_1_Python_Cheat_Sheet.ipynb\" target=\"_parent\"><img src=\"https://colab.research.google.com/assets/colab-badge.svg\" alt=\"Open In Colab\"/></a>"
      ]
    },
    {
      "cell_type": "markdown",
      "metadata": {
        "id": "8Bk-8voVCGFd"
      },
      "source": [
        "# Tutorial 1: Python Cheat Sheet\n",
        "### Dr. Daugherity, PHYS 453 - Spring 2023\n",
        "Remember that professional programmers Google the most basic things *every single day*.  Every time I switch languages I always have to remind myself of the syntax. So here is my **python cheat sheet** to help us get started. \n",
        "\n",
        "\n",
        "### Notes for people used to C++\n",
        "* **EVERYTHING** is an object\n",
        "* **Dynamic Typing** (aka duck typing: if it acts like a duck then we can treat it like a duck)\n",
        "* **WHITESPACE MATTERS!**  \n",
        "\n",
        "Finally, I strongly recommend the [Whirlwind Tour of Python](http://nbviewer.jupyter.org/github/jakevdp/WhirlwindTourOfPython/tree/master) if you need a refresher"
      ]
    },
    {
      "cell_type": "markdown",
      "metadata": {
        "id": "qHtdsDMPCGFh"
      },
      "source": [
        "---\n",
        "# PYTHON STUFF\n",
        "Here's a quick cheat sheet to remind us how python works.\n",
        "Again, I strongly recommend the [Whirlwind Tour of Python](http://nbviewer.jupyter.org/github/jakevdp/WhirlwindTourOfPython/tree/master) for more.  "
      ]
    },
    {
      "cell_type": "markdown",
      "source": [
        "# Logic"
      ],
      "metadata": {
        "id": "5U2usf-2Cpks"
      }
    },
    {
      "cell_type": "code",
      "source": [
        "i=1\n",
        "if i==0:   # Basic IF syntax\n",
        "  print('ZERO')\n",
        "\n",
        "if i==0 or i==1:\n",
        "  print('ZERO or ONE')\n"
      ],
      "metadata": {
        "colab": {
          "base_uri": "https://localhost:8080/"
        },
        "id": "RVODhc4nCv46",
        "outputId": "fed99fd7-bd0d-47d1-bff3-62d803cc0838"
      },
      "execution_count": null,
      "outputs": [
        {
          "output_type": "stream",
          "name": "stdout",
          "text": [
            "ZERO or ONE\n"
          ]
        }
      ]
    },
    {
      "cell_type": "code",
      "execution_count": null,
      "metadata": {
        "id": "uRcIla_DCGFj",
        "outputId": "e05c29ca-2d21-4781-8a5d-7a6b6b9aae59",
        "colab": {
          "base_uri": "https://localhost:8080/"
        }
      },
      "outputs": [
        {
          "output_type": "stream",
          "name": "stdout",
          "text": [
            "Zero\n"
          ]
        }
      ],
      "source": [
        "# Logic - if statements need colons and whitespace!\n",
        "x=0\n",
        "if x>0:\n",
        "  print(\"Positive\")\n",
        "elif x<0:\n",
        "  print(\"Negative\")\n",
        "else:\n",
        "  print(\"Zero\")"
      ]
    },
    {
      "cell_type": "markdown",
      "metadata": {
        "id": "Jf7IlvFiCGFi"
      },
      "source": [
        "## Loops"
      ]
    },
    {
      "cell_type": "code",
      "execution_count": null,
      "metadata": {
        "id": "adAX3HP_CGFj",
        "outputId": "1e3744b5-c48c-4347-a9f9-a900aa37da04",
        "colab": {
          "base_uri": "https://localhost:8080/"
        }
      },
      "outputs": [
        {
          "output_type": "stream",
          "name": "stdout",
          "text": [
            "0\n",
            "1\n",
            "2\n",
            "steve\n"
          ]
        }
      ],
      "source": [
        "#for loop - only acts on lists of things\n",
        "for i in [0,1,2,'steve']:\n",
        "    print(i)"
      ]
    },
    {
      "cell_type": "code",
      "execution_count": null,
      "metadata": {
        "id": "BawlQGTeCGFk",
        "outputId": "746dac44-3242-4195-c937-5a05e5730401",
        "colab": {
          "base_uri": "https://localhost:8080/"
        }
      },
      "outputs": [
        {
          "output_type": "stream",
          "name": "stdout",
          "text": [
            "0\n",
            "1\n",
            "2\n"
          ]
        }
      ],
      "source": [
        "for i in range(3):\n",
        "    print(i)"
      ]
    },
    {
      "cell_type": "code",
      "execution_count": null,
      "metadata": {
        "id": "q6Br-T73CGFl",
        "outputId": "00017653-be82-4873-a875-cda22667bed5",
        "colab": {
          "base_uri": "https://localhost:8080/"
        }
      },
      "outputs": [
        {
          "output_type": "stream",
          "name": "stdout",
          "text": [
            "3\n",
            "2\n",
            "1\n",
            "0\n"
          ]
        }
      ],
      "source": [
        "# while loop\n",
        "i=3\n",
        "while i>=0:\n",
        "    print(i)\n",
        "    i-=1"
      ]
    },
    {
      "cell_type": "markdown",
      "metadata": {
        "id": "BcIZGcwJCGFl"
      },
      "source": [
        "## Output\n",
        "New to python 3.6 is f-strings which are now my favorite way to do console output\n",
        "\n",
        "https://docs.python.org/3/reference/lexical_analysis.html#f-strings"
      ]
    },
    {
      "cell_type": "code",
      "execution_count": null,
      "metadata": {
        "id": "ZetQMDyACGFm",
        "outputId": "42268c6e-82cf-4d9d-8fab-0e4f9475839c",
        "colab": {
          "base_uri": "https://localhost:8080/"
        }
      },
      "outputs": [
        {
          "output_type": "stream",
          "name": "stdout",
          "text": [
            "3.7.12\n"
          ]
        }
      ],
      "source": [
        "from platform import python_version\n",
        "print(python_version())"
      ]
    },
    {
      "cell_type": "code",
      "execution_count": null,
      "metadata": {
        "id": "RHjmSiGxCGFn",
        "outputId": "15a2cfb8-771f-4e4f-94f7-757c1ff6d40b",
        "colab": {
          "base_uri": "https://localhost:8080/"
        }
      },
      "outputs": [
        {
          "output_type": "stream",
          "name": "stdout",
          "text": [
            "3.1416\n",
            "The value of pi is 3.1416\n",
            "The value of pi is 3.142\n",
            "The value of pi is   3.141600\n",
            "The value of pi is 3\n",
            "The value of pi is 3.141600e+00\n",
            "A big number with commas is 1,234,567\n"
          ]
        }
      ],
      "source": [
        "p = 3.1416\n",
        "print(p)\n",
        "print(f\"The value of pi is {p}\")\n",
        "print(f\"The value of pi is {p:5.3f}\")  # float with min width of 5 and 3 decimal places\n",
        "print(f\"The value of pi is {p:10.6f}\") # float with min width of 10 and 6 decimal places\n",
        "print(f\"The value of pi is {p:1.0f}\")  # integer\n",
        "print(f\"The value of pi is {p:e}\")     # scientific\n",
        "print(f\"A big number with commas is {1234567:,}\")  # Commas, wow!"
      ]
    },
    {
      "cell_type": "markdown",
      "metadata": {
        "id": "578pB_ayCGFn"
      },
      "source": [
        "But remember that the *best way to print something* is to just type the variable name"
      ]
    },
    {
      "cell_type": "code",
      "execution_count": null,
      "metadata": {
        "id": "CqQJS_ovCGFo",
        "outputId": "3632c5a1-bc27-48a6-c118-0c217924fe01",
        "colab": {
          "base_uri": "https://localhost:8080/"
        }
      },
      "outputs": [
        {
          "output_type": "execute_result",
          "data": {
            "text/plain": [
              "3.1416"
            ]
          },
          "metadata": {},
          "execution_count": 10
        }
      ],
      "source": [
        "p = 3.1416\n",
        "p"
      ]
    }
  ],
  "metadata": {
    "kernelspec": {
      "display_name": "Python 3",
      "language": "python",
      "name": "python3"
    },
    "language_info": {
      "codemirror_mode": {
        "name": "ipython",
        "version": 3
      },
      "file_extension": ".py",
      "mimetype": "text/x-python",
      "name": "python",
      "nbconvert_exporter": "python",
      "pygments_lexer": "ipython3",
      "version": "3.6.7"
    },
    "colab": {
      "provenance": [],
      "include_colab_link": true
    }
  },
  "nbformat": 4,
  "nbformat_minor": 0
}