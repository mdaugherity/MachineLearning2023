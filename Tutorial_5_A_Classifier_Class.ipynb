{
  "cells": [
    {
      "cell_type": "markdown",
      "metadata": {
        "id": "view-in-github",
        "colab_type": "text"
      },
      "source": [
        "<a href=\"https://colab.research.google.com/github/mdaugherity/MachineLearning2023/blob/main/Tutorial_5_A_Classifier_Class.ipynb\" target=\"_parent\"><img src=\"https://colab.research.google.com/assets/colab-badge.svg\" alt=\"Open In Colab\"/></a>"
      ]
    },
    {
      "cell_type": "code",
      "execution_count": null,
      "metadata": {
        "id": "EER6gbQbEfzc"
      },
      "outputs": [],
      "source": [
        "import matplotlib.pyplot as plt\n",
        "import numpy as np\n",
        "from sklearn import datasets"
      ]
    },
    {
      "cell_type": "markdown",
      "metadata": {
        "id": "dwfycjQxEfza"
      },
      "source": [
        "# Tutorial 5 - A Classifier Class\n",
        "Dr. Daugherity, PHYS 453\n",
        "\n",
        "VERY soon we will start using sklearn's built-in classifiers.  To make sure we understand what is going on under the hood, we will turn our homework 1 solution into a more user-friendly class.\n",
        "\n",
        "**Classes for Novice Programmers**\n",
        "\n",
        "The goal is to make a single package that contains our data with functions to act on it with an obvious interface.  In addition to the initialization function where we set the parameters, every sklearn classifier also has:\n",
        "\n",
        "\n",
        "*  fit(X,y) - trains the classifier on features X that represent target y\n",
        "*  predict(y) - uses the trained classifier to predict the target of the given features\n",
        "\n",
        "The goal of this tutorial is to implement these functions for our lousy 1D classifier."
      ]
    },
    {
      "cell_type": "markdown",
      "source": [
        "# Python Class Example\n",
        "Python is a beautifully designed, clean, and simple language.  One thing that looks a bit ugly and feels clunky is in defining classes.  Remember that these design choices are based on removing any possible ambiguity about which variable we are using.\n",
        "\n",
        "How to write python classes:\n",
        "*   any variable saved into the class must start with a ```self.```  For example use ```self.x``` instead of ```x```  \n",
        "*   functions must also take ```self``` as the first parameter\n",
        "*   to initialize the object define a function called ```___init___```\n",
        "\n",
        "An example will help\n",
        "\n",
        "\n"
      ],
      "metadata": {
        "id": "dujRxzopkqYL"
      }
    },
    {
      "cell_type": "code",
      "source": [
        "class example:\n",
        "\n",
        "  def __init__(self,a=0,b=0):    # initialization function that runs automatically when we make an object \n",
        "    self.a = a\n",
        "    self.b = b\n",
        "\n",
        "  def set(self,a,b):\n",
        "    self.a = a\n",
        "    self.b = b\n",
        "  \n",
        "  def show(self):\n",
        "    print(self.a,self.b)\n",
        "\n",
        "x = example()  # make an object of our class\n",
        "x.show()\n",
        "x.set(1,2)\n",
        "x.show()"
      ],
      "metadata": {
        "id": "JVIC9O2_YmYS",
        "colab": {
          "base_uri": "https://localhost:8080/"
        },
        "outputId": "04ef108a-ac53-47e4-f31f-46c05634fb27"
      },
      "execution_count": null,
      "outputs": [
        {
          "output_type": "stream",
          "name": "stdout",
          "text": [
            "0 0\n",
            "1 2\n"
          ]
        }
      ]
    },
    {
      "cell_type": "code",
      "source": [
        "y = example()\n",
        "y.show()"
      ],
      "metadata": {
        "colab": {
          "base_uri": "https://localhost:8080/"
        },
        "id": "PzR3_TLY-USp",
        "outputId": "0608cf7d-9620-4f2a-d2f8-5dd92aa684fe"
      },
      "execution_count": null,
      "outputs": [
        {
          "output_type": "stream",
          "name": "stdout",
          "text": [
            "0 0\n"
          ]
        }
      ]
    },
    {
      "cell_type": "code",
      "source": [
        "y.b"
      ],
      "metadata": {
        "colab": {
          "base_uri": "https://localhost:8080/"
        },
        "id": "1ZquGihU-pAM",
        "outputId": "7a5b9fb8-59df-425b-a24a-a815513f2107"
      },
      "execution_count": null,
      "outputs": [
        {
          "output_type": "execute_result",
          "data": {
            "text/plain": [
              "0"
            ]
          },
          "metadata": {},
          "execution_count": 19
        }
      ]
    },
    {
      "cell_type": "markdown",
      "metadata": {
        "id": "uBTa5EmgEfzl"
      },
      "source": [
        "## Problem Description\n",
        "Use **brutal force** to find a single decision boundary threshold for a one feature classifier.  \n"
      ]
    },
    {
      "cell_type": "markdown",
      "metadata": {
        "id": "FtDjGD-hEfzn"
      },
      "source": [
        "## Solution Method\n",
        "Plan is to write two functions:\n",
        "1. Given a feature number and a threshold, calculate the accuracy in using this threshold to classify species 0 from species 1.  **You can make the (sometimes terrible) assumption that $ X < thresh $ is always species 0**\n",
        "1. Use brute force to try lots and lots of possible thresholds and find the best one.\n",
        " "
      ]
    },
    {
      "cell_type": "markdown",
      "source": [
        "# CREATE A CLASS"
      ],
      "metadata": {
        "id": "qJqun8WSTEWw"
      }
    },
    {
      "cell_type": "code",
      "source": [
        "class bfc:\n",
        "  \"\"\"Our 1D BRUTE FORCE CLASSIFIER!!!!!!\"\"\"\"\"\n",
        "  def __init__(self):\n",
        "    self.thresh = 0\n",
        "\n",
        "  def find_accuracy(self,X, thresh):\n",
        "    \"\"\"Finds the accuracy using features X, targets y, and a threshold\"\"\" \n",
        "    count = 0\n",
        "    for i in range(100):\n",
        "      if X[i] < thresh:\n",
        "        pred = 0\n",
        "      else:\n",
        "        pred = 1\n",
        "      \n",
        "      if y[i] == pred:\n",
        "        count +=1\n",
        "      #print(f\"{X[i,3]} \\t {thresh} \\t {pred} \\t {y[i]}\")\n",
        "    return count\n",
        "\n",
        "  def fit(self,X,y):\n",
        "    \"\"\"Finds the threshold of features in X with targets in y\"\"\"\n",
        "    thresholds = np.linspace(X.min(), X.max(),num=1000 )\n",
        "\n",
        "    A = np.zeros_like(thresholds)\n",
        "\n",
        "    for i in range(len(thresholds)):\n",
        "      thresh = thresholds[i]\n",
        "      A[i] = self.find_accuracy(X, thresh)\n",
        "\n",
        "    self.thresh = thresholds[ A.argmax()]  # best threshold\n",
        "    return \n",
        "\n",
        "  def predict(self,X):\n",
        "    y = np.zeros_like(X) \n",
        "    for i in range(len(X)):\n",
        "      if X[i] < self.thresh:\n",
        "        y[i] = 0\n",
        "      else:\n",
        "        y[i] = 1\n",
        "    return y\n"
      ],
      "metadata": {
        "id": "ynTxdgT4TGvg"
      },
      "execution_count": null,
      "outputs": []
    },
    {
      "cell_type": "markdown",
      "metadata": {
        "id": "WUKNVsBBEfzn"
      },
      "source": [
        "## Input\n"
      ]
    },
    {
      "cell_type": "code",
      "execution_count": null,
      "metadata": {
        "id": "27EfbRPGEfzh"
      },
      "outputs": [],
      "source": [
        "Xall, yall = datasets.load_iris(return_X_y=True)\n",
        "X = Xall[yall<2]  # get rid of species 2\n",
        "y = yall[yall<2]"
      ]
    },
    {
      "cell_type": "markdown",
      "metadata": {
        "id": "bxFcPD25Efzn"
      },
      "source": [
        "## Analysis\n",
        "Do all the work here\n"
      ]
    },
    {
      "cell_type": "code",
      "source": [
        "clf = bfc()\n",
        "clf.fit(X[:,0],y)\n",
        "print(clf.thresh)"
      ],
      "metadata": {
        "colab": {
          "base_uri": "https://localhost:8080/"
        },
        "id": "58XYL6pZT-S_",
        "outputId": "ef415ce5-fe97-4e9e-ed1d-460b3152dd9d"
      },
      "execution_count": null,
      "outputs": [
        {
          "output_type": "stream",
          "name": "stdout",
          "text": [
            "5.402702702702703\n"
          ]
        }
      ]
    },
    {
      "cell_type": "code",
      "source": [
        "# How well did we do on the training data?\n",
        "from sklearn.metrics import classification_report\n",
        "y_pred = clf.predict(X[:,0])\n",
        "print(classification_report(y,y_pred))"
      ],
      "metadata": {
        "colab": {
          "base_uri": "https://localhost:8080/"
        },
        "id": "7mItsydioh6x",
        "outputId": "181d4009-ba07-4124-8a9d-51afd666b6e5"
      },
      "execution_count": null,
      "outputs": [
        {
          "output_type": "stream",
          "name": "stdout",
          "text": [
            "              precision    recall  f1-score   support\n",
            "\n",
            "           0       0.88      0.90      0.89        50\n",
            "           1       0.90      0.88      0.89        50\n",
            "\n",
            "    accuracy                           0.89       100\n",
            "   macro avg       0.89      0.89      0.89       100\n",
            "weighted avg       0.89      0.89      0.89       100\n",
            "\n"
          ]
        }
      ]
    },
    {
      "cell_type": "code",
      "source": [
        "# Predict new samples\n",
        "X_pred = np.array([3,4,4.5,7,8,212345])\n",
        "y_pred = clf.predict(X_pred)\n",
        "print(y_pred)"
      ],
      "metadata": {
        "colab": {
          "base_uri": "https://localhost:8080/"
        },
        "id": "31kQvDOaoScH",
        "outputId": "7bc21e31-1e5c-456a-e809-6f5e9da23c69"
      },
      "execution_count": null,
      "outputs": [
        {
          "output_type": "stream",
          "name": "stdout",
          "text": [
            "[0. 0. 0. 1. 1. 1.]\n"
          ]
        }
      ]
    }
  ],
  "metadata": {
    "kernelspec": {
      "display_name": "Python 3",
      "language": "python",
      "name": "python3"
    },
    "language_info": {
      "codemirror_mode": {
        "name": "ipython",
        "version": 3
      },
      "file_extension": ".py",
      "mimetype": "text/x-python",
      "name": "python",
      "nbconvert_exporter": "python",
      "pygments_lexer": "ipython3",
      "version": "3.8.8"
    },
    "colab": {
      "provenance": [],
      "include_colab_link": true
    }
  },
  "nbformat": 4,
  "nbformat_minor": 0
}