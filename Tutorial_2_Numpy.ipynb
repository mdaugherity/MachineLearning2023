{
  "cells": [
    {
      "cell_type": "markdown",
      "metadata": {
        "id": "view-in-github",
        "colab_type": "text"
      },
      "source": [
        "<a href=\"https://colab.research.google.com/github/mdaugherity/MachineLearning2023/blob/main/Tutorial_2_Numpy.ipynb\" target=\"_parent\"><img src=\"https://colab.research.google.com/assets/colab-badge.svg\" alt=\"Open In Colab\"/></a>"
      ]
    },
    {
      "cell_type": "markdown",
      "metadata": {
        "id": "gmbb1k9PDWbG"
      },
      "source": [
        "# Tutorial 2: NUMPY\n",
        "### Dr. Daugherity, PHYS 453 - Spring 2023\n",
        "\n",
        "All data scientists use numpy for fast, efficient arrays with tons of powerful libraries.  I highly recommend the [Python Data Science Handbook](https://jakevdp.github.io/PythonDataScienceHandbook/index.html) as a great introduction to numpy \n",
        "\n",
        "**REFERENCES**\n",
        "* https://jakevdp.github.io/PythonDataScienceHandbook/index.html\n",
        "* https://numpy.org/devdocs/user/quickstart.html"
      ]
    },
    {
      "cell_type": "code",
      "execution_count": 1,
      "metadata": {
        "id": "zbFb4w_2DWbJ",
        "outputId": "ee166f28-42b1-4a46-e40d-6f0777051cff",
        "colab": {
          "base_uri": "https://localhost:8080/",
          "height": 35
        }
      },
      "outputs": [
        {
          "output_type": "execute_result",
          "data": {
            "text/plain": [
              "'1.21.6'"
            ],
            "application/vnd.google.colaboratory.intrinsic+json": {
              "type": "string"
            }
          },
          "metadata": {},
          "execution_count": 1
        }
      ],
      "source": [
        "import numpy as np\n",
        "np.__version__"
      ]
    },
    {
      "cell_type": "markdown",
      "metadata": {
        "id": "PttBh51EDWbL"
      },
      "source": [
        "## Creating Arrays\n",
        "This arrays are **NOT** dynamically sized.  You need to declare them before using!"
      ]
    },
    {
      "cell_type": "code",
      "execution_count": 2,
      "metadata": {
        "id": "veLw9sYaDWbM",
        "outputId": "d8794c42-9288-4e87-8089-7a76af01dba7",
        "colab": {
          "base_uri": "https://localhost:8080/"
        }
      },
      "outputs": [
        {
          "output_type": "execute_result",
          "data": {
            "text/plain": [
              "array([1, 4, 2, 5, 3])"
            ]
          },
          "metadata": {},
          "execution_count": 2
        }
      ],
      "source": [
        "np.array([1, 4, 2, 5, 3])"
      ]
    },
    {
      "cell_type": "code",
      "execution_count": 3,
      "metadata": {
        "id": "RiH0UNYQDWbM",
        "outputId": "03ad30cf-4def-4455-f14e-19c649630246",
        "colab": {
          "base_uri": "https://localhost:8080/"
        }
      },
      "outputs": [
        {
          "output_type": "execute_result",
          "data": {
            "text/plain": [
              "array([[1.5, 2. , 3. ],\n",
              "       [4. , 5. , 6. ]])"
            ]
          },
          "metadata": {},
          "execution_count": 3
        }
      ],
      "source": [
        "np.array([(1.5,2,3), (4,5,6)])"
      ]
    },
    {
      "cell_type": "code",
      "execution_count": 4,
      "metadata": {
        "id": "fOnjArj-DWbO",
        "outputId": "e5ecb5d6-7634-4c6e-e60b-e800dd58b672",
        "colab": {
          "base_uri": "https://localhost:8080/"
        }
      },
      "outputs": [
        {
          "output_type": "execute_result",
          "data": {
            "text/plain": [
              "array([0., 0., 0., 0., 0., 0., 0., 0., 0., 0.])"
            ]
          },
          "metadata": {},
          "execution_count": 4
        }
      ],
      "source": [
        "np.zeros(10)  # my most common method"
      ]
    },
    {
      "cell_type": "code",
      "execution_count": 5,
      "metadata": {
        "id": "z3SMbuTeDWbO",
        "outputId": "082d2615-a128-4f3e-f404-c2387b605703",
        "colab": {
          "base_uri": "https://localhost:8080/"
        }
      },
      "outputs": [
        {
          "output_type": "execute_result",
          "data": {
            "text/plain": [
              "array([[1., 1., 1., 1., 1.],\n",
              "       [1., 1., 1., 1., 1.],\n",
              "       [1., 1., 1., 1., 1.]])"
            ]
          },
          "metadata": {},
          "execution_count": 5
        }
      ],
      "source": [
        "np.ones((3, 5))"
      ]
    },
    {
      "cell_type": "code",
      "execution_count": 6,
      "metadata": {
        "id": "UOxOzovJDWbP",
        "outputId": "43244021-92f7-47f0-a7ad-1558ab90ec2d",
        "colab": {
          "base_uri": "https://localhost:8080/"
        }
      },
      "outputs": [
        {
          "output_type": "execute_result",
          "data": {
            "text/plain": [
              "array([ 0,  2,  4,  6,  8, 10, 12, 14, 16, 18])"
            ]
          },
          "metadata": {},
          "execution_count": 6
        }
      ],
      "source": [
        "np.arange(0, 20, 2)  # like the range command (start, stop, step)"
      ]
    },
    {
      "cell_type": "code",
      "execution_count": 7,
      "metadata": {
        "id": "y3-XvWluDWbP",
        "outputId": "2cc2a243-58de-4a3e-85d3-38dd06ad1383",
        "colab": {
          "base_uri": "https://localhost:8080/"
        }
      },
      "outputs": [
        {
          "output_type": "execute_result",
          "data": {
            "text/plain": [
              "array([0.  , 0.25, 0.5 , 0.75, 1.  ])"
            ]
          },
          "metadata": {},
          "execution_count": 7
        }
      ],
      "source": [
        "np.linspace(0, 1, 5)  # my second most common method"
      ]
    },
    {
      "cell_type": "code",
      "execution_count": 8,
      "metadata": {
        "id": "KZAC4sj_DWbR",
        "outputId": "1a664515-01c8-4373-e2ec-444f4d4c7a1a",
        "colab": {
          "base_uri": "https://localhost:8080/"
        }
      },
      "outputs": [
        {
          "output_type": "stream",
          "name": "stdout",
          "text": [
            "x ndim:  2\n",
            "x shape: (2, 3)\n",
            "x size:  6\n"
          ]
        }
      ],
      "source": [
        "x = np.array([(1.5,2,3), (4,5,6)])\n",
        "print(\"x ndim: \", x.ndim)\n",
        "print(\"x shape:\", x.shape)\n",
        "print(\"x size: \", x.size)"
      ]
    },
    {
      "cell_type": "markdown",
      "metadata": {
        "id": "ZEnnbwCfDWbR"
      },
      "source": [
        "\n",
        "## Indexing Arrays\n",
        "Three fun tricks:\n",
        "1.  we can use [start:stop:step]\n",
        "1.  negative numbers read from the end\n",
        "1.  a single colon means _everything_\n"
      ]
    },
    {
      "cell_type": "code",
      "execution_count": 9,
      "metadata": {
        "id": "Fi3FfNOZDWbS",
        "outputId": "1b4b9944-0987-445c-bf37-8b1260ea463d",
        "colab": {
          "base_uri": "https://localhost:8080/"
        }
      },
      "outputs": [
        {
          "output_type": "execute_result",
          "data": {
            "text/plain": [
              "array([0., 1., 2., 3., 4., 5., 6., 7., 8.])"
            ]
          },
          "metadata": {},
          "execution_count": 9
        }
      ],
      "source": [
        "x = np.linspace(0,8,9)  # (start, stop, num)\n",
        "x"
      ]
    },
    {
      "cell_type": "code",
      "execution_count": 10,
      "metadata": {
        "id": "GXZwJVQpDWbS",
        "outputId": "cb35c85c-5bc2-462b-8288-07e97a40f58a",
        "colab": {
          "base_uri": "https://localhost:8080/"
        }
      },
      "outputs": [
        {
          "output_type": "execute_result",
          "data": {
            "text/plain": [
              "array([0., 1., 2., 3., 4.])"
            ]
          },
          "metadata": {},
          "execution_count": 10
        }
      ],
      "source": [
        "x[:5]  # first five elements"
      ]
    },
    {
      "cell_type": "code",
      "execution_count": 11,
      "metadata": {
        "id": "MuRprthNDWbT",
        "outputId": "92cf726b-8b27-4bad-8ca9-8162035ee61c",
        "colab": {
          "base_uri": "https://localhost:8080/"
        }
      },
      "outputs": [
        {
          "output_type": "execute_result",
          "data": {
            "text/plain": [
              "array([5., 6., 7., 8.])"
            ]
          },
          "metadata": {},
          "execution_count": 11
        }
      ],
      "source": [
        "x[5:]  # elements after index 5"
      ]
    },
    {
      "cell_type": "code",
      "execution_count": 12,
      "metadata": {
        "id": "Lx8hkI0nDWbT",
        "outputId": "9f08681c-289a-43ef-a15e-47a462d68387",
        "colab": {
          "base_uri": "https://localhost:8080/"
        }
      },
      "outputs": [
        {
          "output_type": "execute_result",
          "data": {
            "text/plain": [
              "array([0., 2., 4., 6., 8.])"
            ]
          },
          "metadata": {},
          "execution_count": 12
        }
      ],
      "source": [
        "x[::2]  # every other element"
      ]
    },
    {
      "cell_type": "code",
      "execution_count": 13,
      "metadata": {
        "id": "HuhW9HhKDWbU",
        "outputId": "4021114b-446d-4d8c-b511-b51781291136",
        "colab": {
          "base_uri": "https://localhost:8080/"
        }
      },
      "outputs": [
        {
          "output_type": "execute_result",
          "data": {
            "text/plain": [
              "8.0"
            ]
          },
          "metadata": {},
          "execution_count": 13
        }
      ],
      "source": [
        "x[-1] # last element"
      ]
    },
    {
      "cell_type": "code",
      "execution_count": 14,
      "metadata": {
        "id": "DX1VuIVMDWbU",
        "outputId": "813e4d95-1d22-483d-e57d-0ae999e5f417",
        "colab": {
          "base_uri": "https://localhost:8080/"
        }
      },
      "outputs": [
        {
          "output_type": "execute_result",
          "data": {
            "text/plain": [
              "7.0"
            ]
          },
          "metadata": {},
          "execution_count": 14
        }
      ],
      "source": [
        "x[-2] # second-to-last element"
      ]
    },
    {
      "cell_type": "code",
      "execution_count": 15,
      "metadata": {
        "id": "S0NRN0C1DWbV",
        "outputId": "80910d85-4d09-4b3d-cc26-c82d821f18c8",
        "colab": {
          "base_uri": "https://localhost:8080/"
        }
      },
      "outputs": [
        {
          "output_type": "execute_result",
          "data": {
            "text/plain": [
              "array([8., 7., 6., 5., 4., 3., 2., 1., 0.])"
            ]
          },
          "metadata": {},
          "execution_count": 15
        }
      ],
      "source": [
        "x[::-1] # all elements, reversed"
      ]
    },
    {
      "cell_type": "code",
      "execution_count": 16,
      "metadata": {
        "id": "El0QbQ57DWbW",
        "outputId": "32701176-885e-40a5-ca32-0c5502306dcb",
        "colab": {
          "base_uri": "https://localhost:8080/"
        }
      },
      "outputs": [
        {
          "output_type": "execute_result",
          "data": {
            "text/plain": [
              "array([[0., 1., 2.],\n",
              "       [3., 4., 5.],\n",
              "       [6., 7., 8.]])"
            ]
          },
          "metadata": {},
          "execution_count": 16
        }
      ],
      "source": [
        "# Fun in 2D\n",
        "y = x.reshape((3,3))\n",
        "y"
      ]
    },
    {
      "cell_type": "code",
      "execution_count": 17,
      "metadata": {
        "id": "JjYdS9gaDWbW",
        "outputId": "e6d33916-c49e-4659-de3e-22b2588a3aa1",
        "colab": {
          "base_uri": "https://localhost:8080/"
        }
      },
      "outputs": [
        {
          "output_type": "execute_result",
          "data": {
            "text/plain": [
              "array([0., 3., 6.])"
            ]
          },
          "metadata": {},
          "execution_count": 17
        }
      ],
      "source": [
        "y[:, 0]  # first column "
      ]
    },
    {
      "cell_type": "code",
      "execution_count": 18,
      "metadata": {
        "id": "dpSKBXT5DWbW",
        "outputId": "55d957d9-cce8-4821-db55-e2c946388a99",
        "colab": {
          "base_uri": "https://localhost:8080/"
        }
      },
      "outputs": [
        {
          "output_type": "execute_result",
          "data": {
            "text/plain": [
              "array([0., 1., 2.])"
            ]
          },
          "metadata": {},
          "execution_count": 18
        }
      ],
      "source": [
        "y[0, :]  # first row "
      ]
    },
    {
      "cell_type": "code",
      "execution_count": 19,
      "metadata": {
        "id": "AszsKpOHDWbX",
        "outputId": "09530168-7ba9-44d4-e0a0-4858268a2be6",
        "colab": {
          "base_uri": "https://localhost:8080/"
        }
      },
      "outputs": [
        {
          "output_type": "execute_result",
          "data": {
            "text/plain": [
              "array([0., 1., 2.])"
            ]
          },
          "metadata": {},
          "execution_count": 19
        }
      ],
      "source": [
        "y[0]  # equivalent to y[0, :]"
      ]
    },
    {
      "cell_type": "markdown",
      "metadata": {
        "id": "X7AlB4wFDWbX"
      },
      "source": [
        "\n",
        "# Looping over Arrays\n",
        "\n",
        "**AVOID looping over arrays whenever possible!**  \n",
        "\n",
        "Here's why"
      ]
    },
    {
      "cell_type": "code",
      "execution_count": 20,
      "metadata": {
        "id": "bo4cU_IhDWbX"
      },
      "outputs": [],
      "source": [
        "# make a simple function to find a reciprocal\n",
        "def compute_reciprocals(values):\n",
        "    output = np.empty(len(values))\n",
        "    for i in range(len(values)):\n",
        "        output[i] = 1.0 / values[i]\n",
        "    return output"
      ]
    },
    {
      "cell_type": "code",
      "execution_count": 21,
      "metadata": {
        "id": "GvItwPN5DWbY",
        "outputId": "ff5b55ad-c3c1-4d3b-f0d1-559ada13fb75",
        "colab": {
          "base_uri": "https://localhost:8080/"
        }
      },
      "outputs": [
        {
          "output_type": "stream",
          "name": "stdout",
          "text": [
            "3.4 s ± 705 ms per loop (mean ± std. dev. of 7 runs, 1 loop each)\n"
          ]
        }
      ],
      "source": [
        "big_array = np.random.randint(1, 100, size=1000000)\n",
        "%timeit compute_reciprocals(big_array)"
      ]
    },
    {
      "cell_type": "code",
      "execution_count": 22,
      "metadata": {
        "id": "65HLBZjDDWbY",
        "outputId": "43f1d240-a203-4774-ba01-a8628bee9b54",
        "colab": {
          "base_uri": "https://localhost:8080/"
        }
      },
      "outputs": [
        {
          "output_type": "stream",
          "name": "stdout",
          "text": [
            "1.79 ms ± 34 µs per loop (mean ± std. dev. of 7 runs, 1000 loops each)\n"
          ]
        }
      ],
      "source": [
        "%timeit (1.0 / big_array)"
      ]
    },
    {
      "cell_type": "markdown",
      "metadata": {
        "id": "sCLDm-JxDWbY"
      },
      "source": [
        "The *vectorized* version which acts on the array as a whole runs **500 TIMES FASTER**.  Try to operate on the array as a whole instead of looping through elements.  There are many helpful tools and functions  for doing this.\n",
        "\n",
        "\n",
        "But sometimes, you gotta do things the hard way..."
      ]
    },
    {
      "cell_type": "code",
      "execution_count": 23,
      "metadata": {
        "id": "QcdNeD_IDWbZ",
        "outputId": "97e81277-2a0e-4d61-a219-2aaf588cf52b",
        "colab": {
          "base_uri": "https://localhost:8080/"
        }
      },
      "outputs": [
        {
          "output_type": "stream",
          "name": "stdout",
          "text": [
            "0.0\n",
            "0.25\n",
            "0.5\n",
            "0.75\n",
            "1.0\n"
          ]
        }
      ],
      "source": [
        "# Get values from an array\n",
        "x = np.linspace(0,1,5)\n",
        "for val in x:\n",
        "    print(val)"
      ]
    },
    {
      "cell_type": "code",
      "execution_count": 24,
      "metadata": {
        "id": "GXwwdDyhDWbZ",
        "outputId": "806a3898-d286-4a5c-a9ad-9fa126b0dd70",
        "colab": {
          "base_uri": "https://localhost:8080/"
        }
      },
      "outputs": [
        {
          "output_type": "stream",
          "name": "stdout",
          "text": [
            "0:\t0.0\n",
            "1:\t0.25\n",
            "2:\t0.5\n",
            "3:\t0.75\n",
            "4:\t1.0\n"
          ]
        }
      ],
      "source": [
        "# Get indices the Bad way\n",
        "x = np.linspace(0,1,5)\n",
        "for i in range(len(x)):\n",
        "    print(f\"{i}:\\t{x[i]}\")"
      ]
    },
    {
      "cell_type": "code",
      "execution_count": 25,
      "metadata": {
        "id": "bqCczy_TDWba",
        "outputId": "befe155a-4f7c-4c07-b583-5a8fefb60580",
        "colab": {
          "base_uri": "https://localhost:8080/"
        }
      },
      "outputs": [
        {
          "output_type": "stream",
          "name": "stdout",
          "text": [
            "(0, 0.0)\n",
            "(1, 0.25)\n",
            "(2, 0.5)\n",
            "(3, 0.75)\n",
            "(4, 1.0)\n"
          ]
        }
      ],
      "source": [
        "# Use enumerate instead!\n",
        "for i in enumerate(x):\n",
        "    print(i)"
      ]
    },
    {
      "cell_type": "code",
      "execution_count": 26,
      "metadata": {
        "id": "gshI9uU1DWba",
        "outputId": "3ba0d2f5-5e5d-4e83-db9a-a2d4be55f323",
        "colab": {
          "base_uri": "https://localhost:8080/"
        }
      },
      "outputs": [
        {
          "output_type": "stream",
          "name": "stdout",
          "text": [
            "0:\t0.0\n",
            "1:\t0.25\n",
            "2:\t0.5\n",
            "3:\t0.75\n",
            "4:\t1.0\n"
          ]
        }
      ],
      "source": [
        "for i,val in enumerate(x):\n",
        "    print(f\"{i}:\\t{val}\")"
      ]
    },
    {
      "cell_type": "code",
      "execution_count": 27,
      "metadata": {
        "id": "7rbdx4VwDWba",
        "outputId": "d8b6f50b-ddd1-4b26-9b13-443d5e3b9a80",
        "colab": {
          "base_uri": "https://localhost:8080/"
        }
      },
      "outputs": [
        {
          "output_type": "stream",
          "name": "stdout",
          "text": [
            "0.0\t0.0\n",
            "0.25\t0.0625\n",
            "0.5\t0.25\n",
            "0.75\t0.5625\n",
            "1.0\t1.0\n"
          ]
        }
      ],
      "source": [
        "# Finally, a fun trick for multiple arrays\n",
        "x = np.linspace(0,1,5)\n",
        "y = x**2\n",
        "\n",
        "# Bad way\n",
        "for i in range(len(x)):\n",
        "    print(f\"{x[i]}\\t{y[i]}\")"
      ]
    },
    {
      "cell_type": "code",
      "execution_count": 28,
      "metadata": {
        "id": "UVVVOhXgDWba",
        "outputId": "8d2453b4-bdde-4715-bde6-13ac31529a55",
        "colab": {
          "base_uri": "https://localhost:8080/"
        }
      },
      "outputs": [
        {
          "output_type": "stream",
          "name": "stdout",
          "text": [
            "0.0\t0.0\n",
            "0.25\t0.0625\n",
            "0.5\t0.25\n",
            "0.75\t0.5625\n",
            "1.0\t1.0\n"
          ]
        }
      ],
      "source": [
        "# Good way - USE ZIP!\n",
        "for xv, yv in zip(x,y):\n",
        "    print(f\"{xv}\\t{yv}\")"
      ]
    }
  ],
  "metadata": {
    "kernelspec": {
      "display_name": "Python 3",
      "language": "python",
      "name": "python3"
    },
    "language_info": {
      "codemirror_mode": {
        "name": "ipython",
        "version": 3
      },
      "file_extension": ".py",
      "mimetype": "text/x-python",
      "name": "python",
      "nbconvert_exporter": "python",
      "pygments_lexer": "ipython3",
      "version": "3.6.10"
    },
    "colab": {
      "provenance": [],
      "include_colab_link": true
    }
  },
  "nbformat": 4,
  "nbformat_minor": 0
}