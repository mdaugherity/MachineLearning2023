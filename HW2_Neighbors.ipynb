{
  "cells": [
    {
      "cell_type": "markdown",
      "metadata": {
        "id": "view-in-github",
        "colab_type": "text"
      },
      "source": [
        "<a href=\"https://colab.research.google.com/github/mdaugherity/MachineLearning2023/blob/main/HW2_Neighbors.ipynb\" target=\"_parent\"><img src=\"https://colab.research.google.com/assets/colab-badge.svg\" alt=\"Open In Colab\"/></a>"
      ]
    },
    {
      "cell_type": "markdown",
      "metadata": {
        "id": "ud30580LBK10"
      },
      "source": [
        "Name: Dr D  \n",
        "Class: PHYS453 - Pattern Recognition \n",
        "Date: Spring 2023\n",
        "\n",
        "# HW2 - Won't You Be My Neighbor? \n",
        "In this assignment you will write your own simplified version of a Nearest Neighbors classifier and test it out on the famous Iris dataset. The code for loading our data is below--use it without modifications.  You need to perform a few tasks to convince me that your classifier works.\n"
      ]
    },
    {
      "cell_type": "code",
      "execution_count": null,
      "metadata": {
        "id": "O-u84BieBK14"
      },
      "outputs": [],
      "source": [
        "import numpy as np\n",
        "import matplotlib.pyplot as plt\n",
        "\n",
        "from sklearn import datasets\n",
        "from sklearn import neighbors"
      ]
    },
    {
      "cell_type": "markdown",
      "metadata": {
        "id": "ZOnLVhrdBK16"
      },
      "source": [
        "## Requirements\n",
        "* \"Hours of coding will save you minutes of design\".  Make a plan first.\n",
        "* You do not _need_ to make a class or define functions, but some functions will make your life easier\n",
        "* You are submitting a **report**, not just a program.  You need to use the template below where your code is interspersed with markdown cells for discussion and explanations. \n",
        "* Yes: in the template you need to restate (not copy) the problem description and _explain_ the solution method.  **Do not skip any sections.**"
      ]
    },
    {
      "cell_type": "markdown",
      "metadata": {
        "id": "34vzbXv1BK18"
      },
      "source": [
        "## A note on functions:\n",
        "Defining functions makes your life easier.  For example, take a gross thing you have to do lots of times.  Instead of copying and pasting make a function\n"
      ]
    },
    {
      "cell_type": "code",
      "execution_count": null,
      "metadata": {
        "id": "XaV7wUIJBK19"
      },
      "outputs": [],
      "source": [
        "def dist2(a,b):\n",
        "    \"\"\"Returns the distance squared between 1D numpy arrays a and b\"\"\"\n",
        "    return( ((a-b)**2).sum() )"
      ]
    },
    {
      "cell_type": "code",
      "execution_count": null,
      "metadata": {
        "id": "jrLf8TR5BK1-",
        "outputId": "35a5971d-d426-4a7a-f0d1-6ba0c631ba3d",
        "colab": {
          "base_uri": "https://localhost:8080/"
        }
      },
      "outputs": [
        {
          "output_type": "execute_result",
          "data": {
            "text/plain": [
              "20"
            ]
          },
          "metadata": {},
          "execution_count": 3
        }
      ],
      "source": [
        "a = np.array([1,2])\n",
        "b = np.array([5,4])\n",
        "dist2(a,b)"
      ]
    },
    {
      "cell_type": "markdown",
      "metadata": {
        "id": "t3prCb3eBK2A"
      },
      "source": [
        "## The Iris Dataset\n",
        "We'll use the same dataset as the last homework, but lets keep all 3 species"
      ]
    },
    {
      "cell_type": "code",
      "source": [
        "data = datasets.load_iris()\n",
        "print('Features:\\t',data.feature_names)\n",
        "print('Targets:\\t',data.target_names)\n",
        "\n",
        "X = data.data\n",
        "y = data.target"
      ],
      "metadata": {
        "colab": {
          "base_uri": "https://localhost:8080/"
        },
        "id": "ovMcr2eEXsvT",
        "outputId": "26da405b-7043-4896-f601-290fa0db3f3d"
      },
      "execution_count": null,
      "outputs": [
        {
          "output_type": "stream",
          "name": "stdout",
          "text": [
            "Features:\t ['sepal length (cm)', 'sepal width (cm)', 'petal length (cm)', 'petal width (cm)']\n",
            "Targets:\t ['setosa' 'versicolor' 'virginica']\n"
          ]
        }
      ]
    },
    {
      "cell_type": "markdown",
      "metadata": {
        "id": "aOnA2jF0BK2D"
      },
      "source": [
        "The first four columns are input features, and the _species_ column is the target class.  Let's see what the species are:"
      ]
    },
    {
      "cell_type": "markdown",
      "metadata": {
        "id": "NMmn8dFrBK2F"
      },
      "source": [
        "# Problem 1\n",
        "We will look at only 2 features so we can easily make plots.  Your job is to find the nearest neighbor to a given point and make a plot to convince me your answer is right.  Your code is equivalent to the ```predict``` function of a $k=1$ nearest neighbors classifier.\n",
        "\n",
        "Here's some code to help get you started.\n"
      ]
    },
    {
      "cell_type": "code",
      "source": [
        "# The points to predict\n",
        "X_pred = np.array([[6.5, 3.8]])    # note that this is a 2D array like X"
      ],
      "metadata": {
        "id": "1uOunPKJaupX"
      },
      "execution_count": null,
      "outputs": []
    },
    {
      "cell_type": "code",
      "source": [
        "# Make a 2-feature version of X using only the first two columns\n",
        "X2 = X[:,[0,1]]   # 2D version\n",
        "print(X2.shape)"
      ],
      "metadata": {
        "colab": {
          "base_uri": "https://localhost:8080/"
        },
        "id": "BPs5rLFlY8nR",
        "outputId": "4f7180c9-33a0-4178-fa78-362626805929"
      },
      "execution_count": null,
      "outputs": [
        {
          "output_type": "stream",
          "name": "stdout",
          "text": [
            "(150, 2)\n"
          ]
        }
      ]
    },
    {
      "cell_type": "code",
      "source": [
        "# Define Custom Colors\n",
        "from matplotlib.colors import ListedColormap\n",
        "colors_bold = ['#FF0000', '#00FF00', '#0000FF']\n",
        "cmap_bold = ListedColormap(colors_bold)"
      ],
      "metadata": {
        "id": "Oa7YRC8oZSzZ"
      },
      "execution_count": null,
      "outputs": []
    },
    {
      "cell_type": "code",
      "source": [
        "plt.figure(figsize=(6,6))\n",
        "plt.scatter(X2[:, 0], X2[:, 1], marker='o', c=y,s=25, cmap=cmap_bold)\n",
        "plt.plot(X_pred[:,0], X_pred[:,1], 'ks')\n",
        "\n",
        "# Make Custom Legend\n",
        "for i in range(3):\n",
        "  plt.text(8.2,4.4-0.1*i,data.target_names[i],color=colors_bold[i])\n",
        "plt.text(8.2,4.1,'unknown',color='k')\n",
        "plt.xlabel(data.feature_names[0])\n",
        "plt.ylabel(data.feature_names[1])\n",
        "plt.title('Our 2D Dataset with 3 classes')\n",
        "\n",
        "plt.show()"
      ],
      "metadata": {
        "colab": {
          "base_uri": "https://localhost:8080/",
          "height": 404
        },
        "id": "3Ori5nVrZV6K",
        "outputId": "e66feb8b-e17a-4ac1-9202-bbcedb422177"
      },
      "execution_count": null,
      "outputs": [
        {
          "output_type": "display_data",
          "data": {
            "image/png": "[encoded data removed]",
            "text/plain": [
              "<Figure size 432x432 with 1 Axes>"
            ]
          },
          "metadata": {
            "needs_background": "light"
          }
        }
      ]
    },
    {
      "cell_type": "markdown",
      "source": [
        "# Problem 1 Solution\n",
        "goes here"
      ],
      "metadata": {
        "id": "zgfrHjVWbopv"
      }
    },
    {
      "cell_type": "markdown",
      "source": [
        "# Problem 2\n",
        "Now consider the (unplottable) 4-feature original dataset.  Your job is to predict the given points using all 4 features by finding the nearest neighbor."
      ],
      "metadata": {
        "id": "WbwuyeyNbxd2"
      }
    },
    {
      "cell_type": "code",
      "source": [
        "# Generate new dataset to classify\n",
        "means = X.mean(axis=0).reshape(1,-1)\n",
        "X_pred, _ = datasets.make_blobs(n_samples=10, n_features=4, centers=means, cluster_std = 0.7, random_state=0  )\n",
        "\n",
        "print('The points to classify:')\n",
        "print(X_pred)"
      ],
      "metadata": {
        "colab": {
          "base_uri": "https://localhost:8080/"
        },
        "id": "nBVPo2YucLi7",
        "outputId": "8bce226b-89b3-499b-a9ff-e0da4a5bcbfa"
      },
      "execution_count": null,
      "outputs": [
        {
          "output_type": "stream",
          "name": "stdout",
          "text": [
            "The points to classify:\n",
            "[[7.43216157 2.03927736 3.79003096 1.06830464]\n",
            " [5.22188331 1.67077581 3.5144615  1.30877761]\n",
            " [7.07816998 3.33744338 4.44311659 2.76795857]\n",
            " [6.70453681 3.89899923 3.48687123 0.98772141]\n",
            " [6.91627878 4.08588447 3.8664632  1.4640471 ]\n",
            " [5.77108014 3.34475228 3.8588305  2.21732479]\n",
            " [7.15062393 2.37323882 4.42306189 1.09338329]\n",
            " [6.88918868 2.91372255 3.97714739 0.60146632]\n",
            " [4.05624046 3.51486635 4.36310534 0.67981782]\n",
            " [6.37605974 3.14250584 4.06870426 1.43290536]]\n"
          ]
        }
      ]
    },
    {
      "cell_type": "markdown",
      "source": [
        "Good luck.  Have fun."
      ],
      "metadata": {
        "id": "BFnP8khmELIp"
      }
    },
    {
      "cell_type": "markdown",
      "metadata": {
        "id": "4_FTleytEfzl"
      },
      "source": [
        "---\n",
        "# HOMEWORK REPORT TEMPLATE\n",
        "---"
      ]
    },
    {
      "cell_type": "markdown",
      "metadata": {
        "id": "uBTa5EmgEfzl"
      },
      "source": [
        "## Problem Description\n",
        "goes here\n"
      ]
    },
    {
      "cell_type": "markdown",
      "metadata": {
        "id": "FtDjGD-hEfzn"
      },
      "source": [
        "## Solution Method\n",
        "Your plan of attack.  Explain what you are going do to solve the stated problem.\n"
      ]
    },
    {
      "cell_type": "markdown",
      "metadata": {
        "id": "WUKNVsBBEfzn"
      },
      "source": [
        "## Input\n",
        "Load and pre-process data"
      ]
    },
    {
      "cell_type": "markdown",
      "metadata": {
        "id": "bxFcPD25Efzn"
      },
      "source": [
        "## Analysis\n",
        "Do all the work here\n"
      ]
    },
    {
      "cell_type": "markdown",
      "metadata": {
        "id": "F9jEpwelEfzn"
      },
      "source": [
        "## Results\n",
        "Produce the lovely plots and/or data tables that best visualization your solution"
      ]
    },
    {
      "cell_type": "markdown",
      "metadata": {
        "id": "vBH4fflWEfzo"
      },
      "source": [
        "## Discussion\n",
        "Explain and interpret your results.  Explain how your results solve the problem.  Also describe anything interesting you discovered along the way, or lessons learned, or how you overcame problems you encountered.     "
      ]
    }
  ],
  "metadata": {
    "kernelspec": {
      "display_name": "Python 3",
      "language": "python",
      "name": "python3"
    },
    "language_info": {
      "codemirror_mode": {
        "name": "ipython",
        "version": 3
      },
      "file_extension": ".py",
      "mimetype": "text/x-python",
      "name": "python",
      "nbconvert_exporter": "python",
      "pygments_lexer": "ipython3",
      "version": "3.6.10"
    },
    "colab": {
      "provenance": [],
      "include_colab_link": true
    }
  },
  "nbformat": 4,
  "nbformat_minor": 0
}