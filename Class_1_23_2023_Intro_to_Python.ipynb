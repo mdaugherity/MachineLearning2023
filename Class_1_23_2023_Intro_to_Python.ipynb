{
  "nbformat": 4,
  "nbformat_minor": 0,
  "metadata": {
    "colab": {
      "provenance": [],
      "authorship_tag": "ABX9TyPzBXTQWtUJite81YiZWjIU",
      "include_colab_link": true
    },
    "kernelspec": {
      "name": "python3",
      "display_name": "Python 3"
    },
    "language_info": {
      "name": "python"
    }
  },
  "cells": [
    {
      "cell_type": "markdown",
      "metadata": {
        "id": "view-in-github",
        "colab_type": "text"
      },
      "source": [
        "<a href=\"https://colab.research.google.com/github/mdaugherity/MachineLearning2023/blob/main/Class_1_23_2023_Intro_to_Python.ipynb\" target=\"_parent\"><img src=\"https://colab.research.google.com/assets/colab-badge.svg\" alt=\"Open In Colab\"/></a>"
      ]
    },
    {
      "cell_type": "code",
      "execution_count": null,
      "metadata": {
        "id": "pbAWjTxGYce-"
      },
      "outputs": [],
      "source": [
        "import numpy as np"
      ]
    },
    {
      "cell_type": "markdown",
      "source": [
        "#PHYS 453, Spring 2023, Dr. Daugherity\n",
        "A quick intro to Python to review for this year\n",
        "\n",
        "Examples of Markdown for text boxes are:\n",
        "https://www.markdownguide.org/cheat-sheet/\n",
        "\n",
        "Topics\n",
        "* Loops\n",
        "* Logic\n",
        "* NUMPY \n",
        "* Plots\n",
        "\n",
        "Don't forget we can also do equations with\n",
        "$\\LaTeX$\n",
        "Examples:  $x=2$\n",
        "\n",
        "$\\frac{x}{2} = x^{234} + y_{12} \\int \\sin x dx - \\alpha \\Sigma$\n",
        "\n",
        "\n",
        "\n",
        "\n",
        "\n"
      ],
      "metadata": {
        "id": "2H8NoTiAZXvY"
      }
    },
    {
      "cell_type": "markdown",
      "source": [
        "Please set up sections like this:\n",
        "# Title\n",
        "## Header\n",
        "### Subheader\n"
      ],
      "metadata": {
        "id": "oZ9vUucTbs_Y"
      }
    },
    {
      "cell_type": "markdown",
      "source": [
        "# Basics"
      ],
      "metadata": {
        "id": "xHLyE6RUb8ae"
      }
    },
    {
      "cell_type": "code",
      "source": [
        "# Code get comments\n",
        "x = [1, 3.1415, 'steve']\n",
        "print(x)\n"
      ],
      "metadata": {
        "colab": {
          "base_uri": "https://localhost:8080/"
        },
        "id": "l3txV6ZAb_Is",
        "outputId": "94a60c79-9a13-43e3-ecc1-de0ff9c51d5b"
      },
      "execution_count": null,
      "outputs": [
        {
          "output_type": "stream",
          "name": "stdout",
          "text": [
            "[1, 3.1415, 'steve']\n"
          ]
        }
      ]
    },
    {
      "cell_type": "code",
      "source": [
        "x"
      ],
      "metadata": {
        "colab": {
          "base_uri": "https://localhost:8080/"
        },
        "id": "LlMt50DmcrN0",
        "outputId": "701f58c8-0033-4457-f075-d3a8e9fec9a5"
      },
      "execution_count": null,
      "outputs": [
        {
          "output_type": "execute_result",
          "data": {
            "text/plain": [
              "[1, 3.1415, 'steve']"
            ]
          },
          "metadata": {},
          "execution_count": 6
        }
      ]
    },
    {
      "cell_type": "code",
      "source": [
        "print(\"We can \\t add \\t\\t tabs\")\n",
        "print(\"We can \\n add \\n\\n new lines\")"
      ],
      "metadata": {
        "colab": {
          "base_uri": "https://localhost:8080/"
        },
        "id": "w7AsRwqEeafa",
        "outputId": "e8e06c75-1189-45e4-91de-f9b12530924b"
      },
      "execution_count": null,
      "outputs": [
        {
          "output_type": "stream",
          "name": "stdout",
          "text": [
            "We can \t add \t\t tabs\n",
            "We can \n",
            " add \n",
            "\n",
            " new lines\n"
          ]
        }
      ]
    },
    {
      "cell_type": "code",
      "source": [
        "x = 12\n",
        "y = 3.141523452345\n",
        "print(x,y)\n",
        "print('The numbers are',x,y)\n",
        "\n",
        "# Use f-strings to FORMAT strings\n",
        "print(f\"The numbers are x={x} and y={y}\")\n",
        "print(f\"The numbers are x={x} and y={y:8.3f}\")\n",
        "print(f\"The numbers are x={x} and y={y:8.3e}\")\n"
      ],
      "metadata": {
        "colab": {
          "base_uri": "https://localhost:8080/"
        },
        "id": "IECAlijectz7",
        "outputId": "ec54697f-c78f-4601-d136-14736c2faaec"
      },
      "execution_count": null,
      "outputs": [
        {
          "output_type": "stream",
          "name": "stdout",
          "text": [
            "12 3.141523452345\n",
            "The numbers are 12 3.141523452345\n",
            "The numbers are x=12 and y=3.141523452345\n",
            "The numbers are x=12 and y=   3.142\n",
            "The numbers are x=12 and y=3.142e+00\n",
            "We can \t add \t\t tabs\n",
            "We can \n",
            " add \n",
            "\n",
            " new lines\n"
          ]
        }
      ]
    },
    {
      "cell_type": "code",
      "source": [
        "# Example of columns\n",
        "print(f\"{1}{2}{3}\")\n",
        "print(f\"{1:8}{132:8}{3:8}\")"
      ],
      "metadata": {
        "colab": {
          "base_uri": "https://localhost:8080/"
        },
        "id": "LhiX5H0Bdaw6",
        "outputId": "168c4a54-8107-485b-e213-288aaac80702"
      },
      "execution_count": null,
      "outputs": [
        {
          "output_type": "stream",
          "name": "stdout",
          "text": [
            "123\n",
            "       1     132       3\n"
          ]
        }
      ]
    },
    {
      "cell_type": "markdown",
      "source": [
        "# LOOPS\n",
        "IMPORTANT: Loops only work on **lists**\n"
      ],
      "metadata": {
        "id": "SN3EgXurefxI"
      }
    },
    {
      "cell_type": "code",
      "source": [
        "for i in [0, 23.5, 'steve', 4]:\n",
        "  print(i)"
      ],
      "metadata": {
        "colab": {
          "base_uri": "https://localhost:8080/"
        },
        "id": "EkPNIJi7efWW",
        "outputId": "2611c9ab-58f2-4999-bf46-0b0f25761260"
      },
      "execution_count": null,
      "outputs": [
        {
          "output_type": "stream",
          "name": "stdout",
          "text": [
            "0\n",
            "23.5\n",
            "steve\n",
            "4\n"
          ]
        }
      ]
    },
    {
      "cell_type": "code",
      "source": [
        "for i in range(5):\n",
        "  print(i)"
      ],
      "metadata": {
        "colab": {
          "base_uri": "https://localhost:8080/"
        },
        "id": "NL_PnDj8e5-G",
        "outputId": "b6e2b3ea-f54c-4009-eb49-e05c6e36d540"
      },
      "execution_count": null,
      "outputs": [
        {
          "output_type": "stream",
          "name": "stdout",
          "text": [
            "0\n",
            "1\n",
            "2\n",
            "3\n",
            "4\n"
          ]
        }
      ]
    },
    {
      "cell_type": "code",
      "source": [
        "i=0\n",
        "while i<3:\n",
        "  print(i)\n",
        "  i+=1"
      ],
      "metadata": {
        "colab": {
          "base_uri": "https://localhost:8080/"
        },
        "id": "NJ8-fxO7fG8G",
        "outputId": "1bbbd194-3db1-441c-ec9e-e57e91531f94"
      },
      "execution_count": null,
      "outputs": [
        {
          "output_type": "stream",
          "name": "stdout",
          "text": [
            "0\n",
            "1\n",
            "2\n"
          ]
        }
      ]
    },
    {
      "cell_type": "markdown",
      "source": [
        "# LOGIC"
      ],
      "metadata": {
        "id": "Wg04wr_2fltc"
      }
    },
    {
      "cell_type": "code",
      "source": [
        "i=0\n",
        "if i==0:\n",
        "  print('i is zero')"
      ],
      "metadata": {
        "colab": {
          "base_uri": "https://localhost:8080/"
        },
        "id": "Gg8b34ePfnX-",
        "outputId": "ab4cb128-25b1-4ca1-db95-739939fc78cd"
      },
      "execution_count": null,
      "outputs": [
        {
          "output_type": "stream",
          "name": "stdout",
          "text": [
            "i is zero\n"
          ]
        }
      ]
    },
    {
      "cell_type": "code",
      "source": [
        "# NEVER test equality of floating-point numbers!\n",
        "# INSTEAD check for being close enough\n",
        "i=6/12\n",
        "if abs(i-0.5) < 1e-6:\n",
        "  print('i is close enough to one half')"
      ],
      "metadata": {
        "colab": {
          "base_uri": "https://localhost:8080/"
        },
        "id": "ZhZf5joff5F4",
        "outputId": "4c6216c2-15d0-4e3c-9f27-2aa2f0aa9265"
      },
      "execution_count": null,
      "outputs": [
        {
          "output_type": "stream",
          "name": "stdout",
          "text": [
            "i is close enough to one half\n"
          ]
        }
      ]
    },
    {
      "cell_type": "code",
      "source": [
        "x=2\n",
        "y=3\n",
        "if x==2 and y==3:\n",
        "  print('x is 2 and y is 3')"
      ],
      "metadata": {
        "colab": {
          "base_uri": "https://localhost:8080/"
        },
        "id": "BB8Wt50dgehp",
        "outputId": "7cbe3a33-1a61-4339-94dd-ccd21b836550"
      },
      "execution_count": null,
      "outputs": [
        {
          "output_type": "stream",
          "name": "stdout",
          "text": [
            "x is 2 and y is 3\n"
          ]
        }
      ]
    },
    {
      "cell_type": "markdown",
      "source": [
        "# NUMPY\n",
        "Check out the user guide: https://numpy.org/doc/stable/user/index.html\n"
      ],
      "metadata": {
        "id": "hMXcgQDBg-Ry"
      }
    },
    {
      "cell_type": "code",
      "source": [
        "x = np.array([1,2,4])\n",
        "print(x)"
      ],
      "metadata": {
        "colab": {
          "base_uri": "https://localhost:8080/"
        },
        "id": "IVF9D-kog_i1",
        "outputId": "7974eeff-4c16-4e33-9985-3d5486057a36"
      },
      "execution_count": null,
      "outputs": [
        {
          "output_type": "stream",
          "name": "stdout",
          "text": [
            "[1 2 4]\n"
          ]
        }
      ]
    },
    {
      "cell_type": "code",
      "source": [
        "np.arange(5)"
      ],
      "metadata": {
        "colab": {
          "base_uri": "https://localhost:8080/"
        },
        "id": "Xz3hdEQqiC5i",
        "outputId": "df20c2da-f02c-4dee-8f59-a2710b7bc159"
      },
      "execution_count": null,
      "outputs": [
        {
          "output_type": "execute_result",
          "data": {
            "text/plain": [
              "array([0, 1, 2, 3, 4])"
            ]
          },
          "metadata": {},
          "execution_count": 49
        }
      ]
    },
    {
      "cell_type": "code",
      "source": [
        "np.arange(2,10,3)"
      ],
      "metadata": {
        "colab": {
          "base_uri": "https://localhost:8080/"
        },
        "id": "bbXDeGxEiJ59",
        "outputId": "ca668b1e-e937-42eb-ff95-0fc1b1a05855"
      },
      "execution_count": null,
      "outputs": [
        {
          "output_type": "execute_result",
          "data": {
            "text/plain": [
              "array([2, 5, 8])"
            ]
          },
          "metadata": {},
          "execution_count": 50
        }
      ]
    },
    {
      "cell_type": "code",
      "source": [
        "np.linspace(0, 1, 11)"
      ],
      "metadata": {
        "colab": {
          "base_uri": "https://localhost:8080/"
        },
        "id": "dnKjgArziP86",
        "outputId": "c596a0ce-06fc-4571-9f39-d5caa5a5a457"
      },
      "execution_count": null,
      "outputs": [
        {
          "output_type": "execute_result",
          "data": {
            "text/plain": [
              "array([0. , 0.1, 0.2, 0.3, 0.4, 0.5, 0.6, 0.7, 0.8, 0.9, 1. ])"
            ]
          },
          "metadata": {},
          "execution_count": 53
        }
      ]
    }
  ]
}