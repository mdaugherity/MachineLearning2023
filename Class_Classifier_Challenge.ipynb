{
  "cells": [
    {
      "cell_type": "markdown",
      "metadata": {
        "id": "view-in-github",
        "colab_type": "text"
      },
      "source": [
        "<a href=\"https://colab.research.google.com/github/mdaugherity/MachineLearning2023/blob/main/Class_Classifier_Challenge.ipynb\" target=\"_parent\"><img src=\"https://colab.research.google.com/assets/colab-badge.svg\" alt=\"Open In Colab\"/></a>"
      ]
    },
    {
      "cell_type": "markdown",
      "metadata": {
        "id": "9hDn-2_wM5Uu"
      },
      "source": [
        "# Evaluating Classifiers Challenge\n",
        "\n",
        "Given a data set and 3 trained classifiers, your job is to:\n",
        "* determine the overall \"best\" classifier\n",
        "* also discuss which classifier is best for maximizing precision, and which minimizes false positives\n",
        "* find the optimal probability threshold for your best classifier, and use it to classify the points in X_new\n",
        "\n",
        "\n",
        "Notes:\n",
        "* Do NOT modify the classifiers or the data set.  They've been chosen carefully for this problem\n",
        "* How do you define \"best\"?\n",
        "\n",
        "\n",
        "\n",
        "References:\n",
        "*  https://scikit-learn.org/stable/modules/classes.html#module-sklearn.metrics \n"
      ]
    },
    {
      "cell_type": "code",
      "execution_count": null,
      "metadata": {
        "id": "LsDIfP6NM5Uw"
      },
      "outputs": [],
      "source": [
        "# Create Challenge Data - DO NOT MODIFY THIS CODE\n",
        "from sklearn import datasets\n",
        "from sklearn.model_selection import train_test_split\n",
        "import numpy as np\n",
        "import matplotlib.pyplot as plt\n",
        "\n",
        "X, y_true = datasets.make_classification(n_samples=100, n_features=8, n_informative=3, n_classes=2, class_sep=0.7, random_state=1)\n",
        "\n",
        "#X_train, X_test, y_train, y_test = train_test_split(X, y, random_state=0)\n",
        "\n",
        "X_new, _ = datasets.make_classification(n_samples=5, n_features=8, n_informative=3, n_classes=2, class_sep=0.7, random_state=42)"
      ]
    },
    {
      "cell_type": "code",
      "execution_count": null,
      "metadata": {
        "id": "NBD4vcMZM5Uy",
        "outputId": "6c10b30e-e6ac-44cd-e2fb-27eb27ca2cec",
        "colab": {
          "base_uri": "https://localhost:8080/"
        }
      },
      "outputs": [
        {
          "output_type": "stream",
          "name": "stderr",
          "text": [
            "/usr/local/lib/python3.7/dist-packages/sklearn/neural_network/_multilayer_perceptron.py:696: ConvergenceWarning: Stochastic Optimizer: Maximum iterations (200) reached and the optimization hasn't converged yet.\n",
            "  ConvergenceWarning,\n"
          ]
        }
      ],
      "source": [
        "# Set up classifiers - DO NOT MODIFY THIS CODE\n",
        "from sklearn.svm import SVC\n",
        "from sklearn import tree\n",
        "from sklearn import neural_network\n",
        "\n",
        "svc = SVC(kernel='poly', C=1,probability=True)\n",
        "dtr = tree.DecisionTreeClassifier(max_depth=4)\n",
        "ann = neural_network.MLPClassifier(random_state=1)\n",
        "\n",
        "\n",
        "clf_list = (svc,dtr,ann) # list o' classifiers\n",
        "\n",
        "# Train all the classifiers in a for loop, just because we can\n",
        "for clf in clf_list:\n",
        "    clf.fit(X,y_true)\n",
        "    \n",
        "# Expect to see an error message about the neural network not converging below..."
      ]
    },
    {
      "cell_type": "markdown",
      "source": [
        "# Examples\n",
        "You can modify code below here"
      ],
      "metadata": {
        "id": "8mpXbTFLN4iR"
      }
    },
    {
      "cell_type": "code",
      "source": [
        "from sklearn import metrics"
      ],
      "metadata": {
        "id": "7fhxmr36OZoJ"
      },
      "execution_count": null,
      "outputs": []
    },
    {
      "cell_type": "code",
      "source": [
        "# Example with SVC\n",
        "y_pred = svc.predict(X)\n",
        "print(metrics.classification_report( y_true, y_pred ))"
      ],
      "metadata": {
        "colab": {
          "base_uri": "https://localhost:8080/"
        },
        "id": "d69Q4UntNwVV",
        "outputId": "7d3e47af-f146-4f95-d090-8b793617fda4"
      },
      "execution_count": null,
      "outputs": [
        {
          "output_type": "stream",
          "name": "stdout",
          "text": [
            "              precision    recall  f1-score   support\n",
            "\n",
            "           0       0.86      0.71      0.77        51\n",
            "           1       0.74      0.88      0.80        49\n",
            "\n",
            "    accuracy                           0.79       100\n",
            "   macro avg       0.80      0.79      0.79       100\n",
            "weighted avg       0.80      0.79      0.79       100\n",
            "\n"
          ]
        }
      ]
    }
  ],
  "metadata": {
    "kernelspec": {
      "display_name": "Python 3",
      "language": "python",
      "name": "python3"
    },
    "language_info": {
      "codemirror_mode": {
        "name": "ipython",
        "version": 3
      },
      "file_extension": ".py",
      "mimetype": "text/x-python",
      "name": "python",
      "nbconvert_exporter": "python",
      "pygments_lexer": "ipython3",
      "version": "3.6.3"
    },
    "colab": {
      "provenance": [],
      "include_colab_link": true
    }
  },
  "nbformat": 4,
  "nbformat_minor": 0
}