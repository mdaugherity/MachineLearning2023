{
  "cells": [
    {
      "cell_type": "markdown",
      "metadata": {
        "id": "view-in-github",
        "colab_type": "text"
      },
      "source": [
        "<a href=\"https://colab.research.google.com/github/mdaugherity/MachineLearning2023/blob/main/HW1_DIY_1D_Classifier.ipynb\" target=\"_parent\"><img src=\"https://colab.research.google.com/assets/colab-badge.svg\" alt=\"Open In Colab\"/></a>"
      ]
    },
    {
      "cell_type": "markdown",
      "metadata": {
        "id": "dwfycjQxEfza"
      },
      "source": [
        "Name: Dr D  \n",
        "Class: PHYS453 - Machine Learning  \n",
        "Date: Spring 2023\n",
        "\n",
        "# HW1 - DIY 1D Classifier\n",
        "In this assignment you will use **brutal force** to find a single decision boundary threshold for a one feature classifier.  You'll find some metrics to help calculate the optimal place, and try to convince me that it actually works.\n",
        "\n",
        "\n"
      ]
    },
    {
      "cell_type": "code",
      "execution_count": 1,
      "metadata": {
        "id": "EER6gbQbEfzc"
      },
      "outputs": [],
      "source": [
        "import matplotlib.pyplot as plt\n",
        "import numpy as np\n",
        "from sklearn import datasets"
      ]
    },
    {
      "cell_type": "markdown",
      "metadata": {
        "id": "SuZ1ZN2VEfzd"
      },
      "source": [
        "## Requirements\n",
        "* \"Hours of coding will save you minutes of design\".  Make a plan first.\n",
        "* You do not _need_ to make a class or define functions, but some functions will make your life easier\n",
        "* You are submitting a **report**, not just a program.  You need to use the template below where your code is interspersed with markdown cells for discussion and explanations. \n",
        "* Yes: in the template you need to restate (not copy) the problem description and _explain_ the solution method.  **Do not skip any sections.**"
      ]
    },
    {
      "cell_type": "markdown",
      "metadata": {
        "id": "GifqYNEhEfze"
      },
      "source": [
        "## A note on functions:\n",
        "Defining functions makes your life easier.  For example, take a gross thing you have to do lots of times.  Instead of copying and pasting make a function\n"
      ]
    },
    {
      "cell_type": "code",
      "execution_count": 2,
      "metadata": {
        "id": "Y3XjPgTSEfzf"
      },
      "outputs": [],
      "source": [
        "def dist2(a,b):\n",
        "    \"\"\"Returns the distance squared between 1D numpy arrays a and b\"\"\"\n",
        "    return( ((a-b)**2).sum() )"
      ]
    },
    {
      "cell_type": "code",
      "execution_count": 3,
      "metadata": {
        "id": "kARAhzuZEfzf",
        "outputId": "5960b4a0-dca7-4b3a-a605-d40b6bd5d3e4",
        "colab": {
          "base_uri": "https://localhost:8080/"
        }
      },
      "outputs": [
        {
          "output_type": "execute_result",
          "data": {
            "text/plain": [
              "20"
            ]
          },
          "metadata": {},
          "execution_count": 3
        }
      ],
      "source": [
        "a = np.array([1,2])\n",
        "b = np.array([5,4])\n",
        "dist2(a,b)"
      ]
    },
    {
      "cell_type": "markdown",
      "metadata": {
        "id": "Hvx58HrjEfzg"
      },
      "source": [
        "We will soon be using a library that has functions like:\n",
        "* `fit(X,y)` to train the classifier \n",
        "* `predict(X)` to classify new points"
      ]
    },
    {
      "cell_type": "markdown",
      "metadata": {
        "id": "TsaSpLbCEfzg"
      },
      "source": [
        "## The Iris Dataset\n",
        "This is a famous example in machine learning using 4 measurements as features to distinguish between 3 species of irises.  We talked through the details in class, so we'll keep it simple for now.\n",
        "\n",
        "https://scikit-learn.org/stable/modules/generated/sklearn.datasets.load_iris.html \n"
      ]
    },
    {
      "cell_type": "code",
      "execution_count": 4,
      "metadata": {
        "id": "27EfbRPGEfzh",
        "outputId": "d4bf0f82-6e42-4b84-cceb-86385d8e2d89",
        "colab": {
          "base_uri": "https://localhost:8080/"
        }
      },
      "outputs": [
        {
          "output_type": "stream",
          "name": "stdout",
          "text": [
            "Feature data shape:  (150, 4)\n",
            "The targets are:  [0 1 2]\n"
          ]
        }
      ],
      "source": [
        "Xall, yall = datasets.load_iris(return_X_y=True)\n",
        "print('Feature data shape: ',Xall.shape)\n",
        "print('The targets are: ',np.unique(yall))"
      ]
    },
    {
      "cell_type": "markdown",
      "metadata": {
        "id": "evaNG2RAEfzj"
      },
      "source": [
        "`X` has 150 flowers (each row is a sample) with 4 features (columns).  The `y` array is the species number (0, 1, or 2).  *We will ignore species 2 for today.*\n",
        "\n"
      ]
    },
    {
      "cell_type": "code",
      "source": [
        "X = Xall[yall<2]  # get rid of species 2\n",
        "y = yall[yall<2]"
      ],
      "metadata": {
        "id": "h76f6R9myRPS"
      },
      "execution_count": 5,
      "outputs": []
    },
    {
      "cell_type": "markdown",
      "source": [
        "You can access data for a single species easily:"
      ],
      "metadata": {
        "id": "bI1FK85dyOGV"
      }
    },
    {
      "cell_type": "code",
      "source": [
        "X[ y==0 ].shape   # only species 0, you can save this as a new variable if you like"
      ],
      "metadata": {
        "colab": {
          "base_uri": "https://localhost:8080/"
        },
        "id": "cA4jy2jhHnTK",
        "outputId": "52fe774e-c7a3-46b2-b18a-45b06e50e6a7"
      },
      "execution_count": 6,
      "outputs": [
        {
          "output_type": "execute_result",
          "data": {
            "text/plain": [
              "(50, 4)"
            ]
          },
          "metadata": {},
          "execution_count": 6
        }
      ]
    },
    {
      "cell_type": "markdown",
      "source": [
        "\n",
        "More examples:\n",
        "```\n",
        "X[:,0]  #  only feature 0, all speciees\n",
        "X[y==1, 2] # feature 2, species 1\n",
        "```\n",
        "\n",
        "The first 50 samples are species 0, so you can iterate through them using\n",
        "\n",
        "```\n",
        "for i in range(50):\n",
        "  print(X[i])\n",
        "```\n",
        "\n",
        "Or:\n",
        "\n",
        "```\n",
        "X0 = X[y==0]\n",
        "for i in range(len(X0)):\n",
        "\n",
        "```\n",
        "\n",
        "Or:\n",
        "```\n",
        "for i,xval in enumerate(X0)\n",
        "```\n",
        "\n",
        "\n"
      ],
      "metadata": {
        "id": "DgUJ2lVQbID7"
      }
    },
    {
      "cell_type": "code",
      "source": [
        "for i,xval in enumerate(X):\n",
        "  if i<5:\n",
        "    print(i,xval)"
      ],
      "metadata": {
        "colab": {
          "base_uri": "https://localhost:8080/"
        },
        "id": "maj6F3Xrx7YZ",
        "outputId": "cabeed1d-327c-4546-9be9-51cc25ddcb06"
      },
      "execution_count": 7,
      "outputs": [
        {
          "output_type": "stream",
          "name": "stdout",
          "text": [
            "0 [5.1 3.5 1.4 0.2]\n",
            "1 [4.9 3.  1.4 0.2]\n",
            "2 [4.7 3.2 1.3 0.2]\n",
            "3 [4.6 3.1 1.5 0.2]\n",
            "4 [5.  3.6 1.4 0.2]\n"
          ]
        }
      ]
    },
    {
      "cell_type": "markdown",
      "source": [
        "Visualize the features with violin plots:\n",
        "* https://matplotlib.org/stable/gallery/statistics/violinplot.html\n",
        "* https://matplotlib.org/stable/api/_as_gen/matplotlib.pyplot.violinplot.html#matplotlib.pyplot.violinplot \n",
        "\n"
      ],
      "metadata": {
        "id": "Z7uDNjjmIdM-"
      }
    },
    {
      "cell_type": "code",
      "source": [
        "plt.figure(figsize=(12,5))\n",
        "featnum = np.arange(4) # locations for each feature = [0,1,2,3]\n",
        "for i in range(2):\n",
        "  plt.violinplot(X[y==i,:], positions=featnum, vert=False)  \n",
        "\n",
        "plt.xlabel('Feature Value')\n",
        "plt.ylabel('Feature Number')\n",
        "plt.yticks(ticks = featnum)\n",
        "plt.show()"
      ],
      "metadata": {
        "colab": {
          "base_uri": "https://localhost:8080/",
          "height": 334
        },
        "id": "kcCdhKgUQ_8_",
        "outputId": "ceeef185-4691-4355-9b3e-4701461708c6"
      },
      "execution_count": 8,
      "outputs": [
        {
          "output_type": "display_data",
          "data": {
            "text/plain": [
              "<Figure size 864x360 with 1 Axes>"
            ],
            "image/png": "[encoded data removed]"
          },
          "metadata": {
            "needs_background": "light"
          }
        }
      ]
    },
    {
      "cell_type": "markdown",
      "metadata": {
        "id": "a0zLVFubEfzl"
      },
      "source": [
        "## Problems\n",
        "\n",
        "Write two bits of code (hopefully functions):\n",
        "1. Given a feature number and a threshold, calculate the accuracy in using this threshold to classify species 0 from species 1.  **You can make the (sometimes terrible) assumption that $ X < thresh $ is always species 0**\n",
        "1. Use brute force to try lots and lots of possible thresholds and find the best one.\n",
        " "
      ]
    },
    {
      "cell_type": "markdown",
      "metadata": {
        "id": "4_FTleytEfzl"
      },
      "source": [
        "---\n",
        "# HOMEWORK REPORT TEMPLATE\n",
        "---"
      ]
    },
    {
      "cell_type": "markdown",
      "metadata": {
        "id": "uBTa5EmgEfzl"
      },
      "source": [
        "## Problem Description\n",
        "goes here\n"
      ]
    },
    {
      "cell_type": "markdown",
      "metadata": {
        "id": "FtDjGD-hEfzn"
      },
      "source": [
        "## Solution Method\n",
        "Your plan of attack.  Explain what you are going do to solve the stated problem.\n"
      ]
    },
    {
      "cell_type": "markdown",
      "metadata": {
        "id": "WUKNVsBBEfzn"
      },
      "source": [
        "## Input\n",
        "Load and pre-process data"
      ]
    },
    {
      "cell_type": "markdown",
      "metadata": {
        "id": "bxFcPD25Efzn"
      },
      "source": [
        "## Analysis\n",
        "Do all the work here\n"
      ]
    },
    {
      "cell_type": "markdown",
      "metadata": {
        "id": "F9jEpwelEfzn"
      },
      "source": [
        "## Results\n",
        "Produce the lovely plots and/or data tables that best visualization your solution"
      ]
    },
    {
      "cell_type": "markdown",
      "metadata": {
        "id": "vBH4fflWEfzo"
      },
      "source": [
        "## Discussion\n",
        "Explain and interpret your results.  Explain how your results solve the problem.  Also describe anything interesting you discovered along the way, or lessons learned, or how you overcame problems you encountered.     "
      ]
    }
  ],
  "metadata": {
    "kernelspec": {
      "display_name": "Python 3",
      "language": "python",
      "name": "python3"
    },
    "language_info": {
      "codemirror_mode": {
        "name": "ipython",
        "version": 3
      },
      "file_extension": ".py",
      "mimetype": "text/x-python",
      "name": "python",
      "nbconvert_exporter": "python",
      "pygments_lexer": "ipython3",
      "version": "3.8.8"
    },
    "colab": {
      "provenance": [],
      "collapsed_sections": [
        "SuZ1ZN2VEfzd",
        "a0zLVFubEfzl",
        "uBTa5EmgEfzl",
        "FtDjGD-hEfzn",
        "WUKNVsBBEfzn",
        "bxFcPD25Efzn",
        "F9jEpwelEfzn",
        "vBH4fflWEfzo"
      ],
      "include_colab_link": true
    }
  },
  "nbformat": 4,
  "nbformat_minor": 0
}