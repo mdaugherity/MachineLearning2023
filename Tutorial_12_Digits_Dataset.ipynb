{
  "cells": [
    {
      "cell_type": "markdown",
      "metadata": {
        "id": "view-in-github",
        "colab_type": "text"
      },
      "source": [
        "<a href=\"https://colab.research.google.com/github/mdaugherity/MachineLearning2023/blob/main/Tutorial_12_Digits_Dataset.ipynb\" target=\"_parent\"><img src=\"https://colab.research.google.com/assets/colab-badge.svg\" alt=\"Open In Colab\"/></a>"
      ]
    },
    {
      "cell_type": "markdown",
      "metadata": {
        "id": "sHoSCmFYkuzG"
      },
      "source": [
        "# Tutorial 12: The Digits Dataset\n",
        "### Dr. Daugherity, PHYS 453 \n",
        "\n",
        "The digits dataset in sklearn is a sample of a [more complete dataset](http://archive.ics.uci.edu/ml/datasets/Pen-Based+Recognition+of+Handwritten+Digits).  Ours has 1,797 examples of classified hand-written digits 0-9 stored as pixel arrays with color from 0 (white) to 15 (black).\n",
        "\n",
        "How well can our classifiers recognize digits?  The only fair way to evaluate classifier performance is to test them with data they haven't been trained where you know the right answers.  So we will using a **test / train split** as illustrated below."
      ]
    },
    {
      "cell_type": "code",
      "execution_count": 1,
      "metadata": {
        "id": "iSlhsOXpkuzI"
      },
      "outputs": [],
      "source": [
        "import matplotlib.pyplot as plt\n",
        "import numpy as np\n",
        "from sklearn import neighbors\n",
        "from sklearn import naive_bayes\n",
        "from sklearn.datasets import load_digits  \n",
        "from sklearn.metrics import ConfusionMatrixDisplay"
      ]
    },
    {
      "cell_type": "markdown",
      "metadata": {
        "id": "0l0pw_rikuzL"
      },
      "source": [
        "We will load in the 1,797 samples from the data set and then split them (crudely):\n",
        "* the first 1,697 will be used for training\n",
        "* the last 100 will not be trained on and will only be used for testing the classifier's performance\n",
        "\n",
        "Sklearn has a `train_test_split` function to do this automatically:  \n",
        "https://scikit-learn.org/stable/modules/generated/sklearn.model_selection.train_test_split.html  \n",
        "but I'll just do it by hand today."
      ]
    },
    {
      "cell_type": "code",
      "execution_count": 2,
      "metadata": {
        "id": "6Gy_mtX5kuzM",
        "outputId": "b4ff71bb-a17f-4e25-e964-0d273e46ba40",
        "colab": {
          "base_uri": "https://localhost:8080/"
        }
      },
      "outputs": [
        {
          "output_type": "stream",
          "name": "stdout",
          "text": [
            "Data:   (1797, 64) (1797,)\n",
            "Train:  (1697, 64) (1697,)\n",
            "Test:   (100, 64) (100,)\n"
          ]
        }
      ],
      "source": [
        "X,y = load_digits(return_X_y=True)\n",
        "\n",
        "# Do a crude test/train split to evaluate classifiers\n",
        "NUM_TEST = 100\n",
        "X_train = X[:-NUM_TEST] # take all but the last 100 elements, use these for training\n",
        "y_train = y[:-NUM_TEST]\n",
        "X_test = X[-NUM_TEST:]  # take only the last 100 elements, use these for testing\n",
        "y_test = y[-NUM_TEST:]  # the right answers to check classifier's performance\n",
        "\n",
        "print(\"Data:  \",X.shape,y.shape)\n",
        "print(\"Train: \",X_train.shape, y_train.shape)\n",
        "print(\"Test:  \",X_test.shape,y_test.shape)"
      ]
    },
    {
      "cell_type": "code",
      "execution_count": 3,
      "metadata": {
        "id": "_8BHUVhDkuzN",
        "outputId": "491ccb96-edb4-43f6-f6f4-70c4fe9cb27e",
        "colab": {
          "base_uri": "https://localhost:8080/"
        }
      },
      "outputs": [
        {
          "output_type": "execute_result",
          "data": {
            "text/plain": [
              "array([ 0.,  0.,  5., 13.,  9.,  1.,  0.,  0.,  0.,  0., 13., 15., 10.,\n",
              "       15.,  5.,  0.,  0.,  3., 15.,  2.,  0., 11.,  8.,  0.,  0.,  4.,\n",
              "       12.,  0.,  0.,  8.,  8.,  0.,  0.,  5.,  8.,  0.,  0.,  9.,  8.,\n",
              "        0.,  0.,  4., 11.,  0.,  1., 12.,  7.,  0.,  0.,  2., 14.,  5.,\n",
              "       10., 12.,  0.,  0.,  0.,  0.,  6., 13., 10.,  0.,  0.,  0.])"
            ]
          },
          "metadata": {},
          "execution_count": 3
        }
      ],
      "source": [
        "X_train[0]"
      ]
    },
    {
      "cell_type": "markdown",
      "metadata": {
        "id": "1-MouRP-kuzO"
      },
      "source": [
        "We have 64 features each representing a pixel color from 0 (white) to 15 (black).  \n",
        "\n",
        "### VERY IMPORTANT WARNING\n",
        "* To draw the images we need to make a 2D 8x8 array\n",
        "* To use sklearn we need a 2D Nx64 array (for N samples)\n",
        "\n",
        "We will use the reshape command to accomplish this feat:  \n",
        "https://docs.scipy.org/doc/numpy/reference/generated/numpy.reshape.html  \n",
        "In giving the new shape, you can use one -1 and numpy will calculate the dimension from the number of elements"
      ]
    },
    {
      "cell_type": "code",
      "execution_count": 4,
      "metadata": {
        "id": "6rYC-ZNqkuzP",
        "outputId": "24b53397-2ed1-4974-eaa5-8d9635967193",
        "colab": {
          "base_uri": "https://localhost:8080/"
        }
      },
      "outputs": [
        {
          "output_type": "execute_result",
          "data": {
            "text/plain": [
              "(64,)"
            ]
          },
          "metadata": {},
          "execution_count": 4
        }
      ],
      "source": [
        "X_train[0].shape"
      ]
    },
    {
      "cell_type": "markdown",
      "metadata": {
        "id": "JFSAOgw5kuzQ"
      },
      "source": [
        "So one sample is a 1D array with 64 elements, so we need to reshape it"
      ]
    },
    {
      "cell_type": "code",
      "execution_count": 5,
      "metadata": {
        "id": "ZLHmfCjDkuzR",
        "outputId": "42e7b4b0-ed7d-4793-b4e5-552659c56c50",
        "colab": {
          "base_uri": "https://localhost:8080/"
        }
      },
      "outputs": [
        {
          "output_type": "execute_result",
          "data": {
            "text/plain": [
              "array([[ 0.,  0.,  5., 13.,  9.,  1.,  0.,  0.],\n",
              "       [ 0.,  0., 13., 15., 10., 15.,  5.,  0.],\n",
              "       [ 0.,  3., 15.,  2.,  0., 11.,  8.,  0.],\n",
              "       [ 0.,  4., 12.,  0.,  0.,  8.,  8.,  0.],\n",
              "       [ 0.,  5.,  8.,  0.,  0.,  9.,  8.,  0.],\n",
              "       [ 0.,  4., 11.,  0.,  1., 12.,  7.,  0.],\n",
              "       [ 0.,  2., 14.,  5., 10., 12.,  0.,  0.],\n",
              "       [ 0.,  0.,  6., 13., 10.,  0.,  0.,  0.]])"
            ]
          },
          "metadata": {},
          "execution_count": 5
        }
      ],
      "source": [
        "X_train[0].reshape(8,8)  # make an 8x8 array for drawing"
      ]
    },
    {
      "cell_type": "code",
      "execution_count": 6,
      "metadata": {
        "id": "6aWdYXdJkuzT",
        "outputId": "07b9efb4-379a-4045-b3e0-13830ef6885b",
        "colab": {
          "base_uri": "https://localhost:8080/"
        }
      },
      "outputs": [
        {
          "output_type": "execute_result",
          "data": {
            "text/plain": [
              "(8, 8)"
            ]
          },
          "metadata": {},
          "execution_count": 6
        }
      ],
      "source": [
        "X_train[0].reshape(8,8).shape"
      ]
    },
    {
      "cell_type": "code",
      "execution_count": 7,
      "metadata": {
        "id": "g65u2fz2kuzU",
        "outputId": "0ab6f67d-2424-44fa-9dbf-8b5196bec4b1",
        "colab": {
          "base_uri": "https://localhost:8080/"
        }
      },
      "outputs": [
        {
          "output_type": "execute_result",
          "data": {
            "text/plain": [
              "array([[ 0.,  0.,  5., 13.,  9.,  1.,  0.,  0.,  0.,  0., 13., 15., 10.,\n",
              "        15.,  5.,  0.,  0.,  3., 15.,  2.,  0., 11.,  8.,  0.,  0.,  4.,\n",
              "        12.,  0.,  0.,  8.,  8.,  0.,  0.,  5.,  8.,  0.,  0.,  9.,  8.,\n",
              "         0.,  0.,  4., 11.,  0.,  1., 12.,  7.,  0.,  0.,  2., 14.,  5.,\n",
              "        10., 12.,  0.,  0.,  0.,  0.,  6., 13., 10.,  0.,  0.,  0.]])"
            ]
          },
          "metadata": {},
          "execution_count": 7
        }
      ],
      "source": [
        "X_train[0].reshape(1,-1)  # make a 2D 1x64 array for sklearn  (-1 means to use all elements)"
      ]
    },
    {
      "cell_type": "code",
      "execution_count": 8,
      "metadata": {
        "id": "WHoZkr-MkuzW",
        "outputId": "81170add-8339-41b0-b77f-337bf164a62e",
        "colab": {
          "base_uri": "https://localhost:8080/"
        }
      },
      "outputs": [
        {
          "output_type": "execute_result",
          "data": {
            "text/plain": [
              "(1, 64)"
            ]
          },
          "metadata": {},
          "execution_count": 8
        }
      ],
      "source": [
        "X_train[0].reshape(1,-1).shape"
      ]
    },
    {
      "cell_type": "markdown",
      "metadata": {
        "id": "__vUxGcFkuzW"
      },
      "source": [
        "**DO NOT PROCEED FARTHER** until you understand this.  \n",
        "\n",
        "Now we can play with digits"
      ]
    },
    {
      "cell_type": "markdown",
      "metadata": {
        "id": "jHx0nMQhkuzX"
      },
      "source": [
        "# Drawing Digits"
      ]
    },
    {
      "cell_type": "code",
      "execution_count": 9,
      "metadata": {
        "id": "WIx9aKsmkuzX",
        "outputId": "9e6e1f54-3cad-4038-8db2-dcff8ed0cc47",
        "colab": {
          "base_uri": "https://localhost:8080/",
          "height": 294
        }
      },
      "outputs": [
        {
          "output_type": "display_data",
          "data": {
            "text/plain": [
              "<Figure size 600x300 with 2 Axes>"
            ],
            "image/png": "[encoded data removed]"
          },
          "metadata": {}
        }
      ],
      "source": [
        "# Plot the first training sample\n",
        "plt.figure(figsize=(6, 3))\n",
        "\n",
        "plt.subplot(1,2,1)\n",
        "plt.imshow(X_train[0].reshape(8,8)) \n",
        "plt.title(\"Default Colors\")\n",
        "\n",
        "plt.subplot(1,2,2)\n",
        "plt.title(\"Binary Colormap\")\n",
        "plt.imshow(X_train[0].reshape(8,8), cmap=plt.cm.binary)\n",
        "\n",
        "plt.show()"
      ]
    },
    {
      "cell_type": "markdown",
      "metadata": {
        "id": "9ZdaFGzfkuzY"
      },
      "source": [
        "The `imshow` command draws the 8x8 image.  The default colors are quite pretty, but I'll stick with the black and white version"
      ]
    },
    {
      "cell_type": "code",
      "execution_count": 10,
      "metadata": {
        "id": "D2L4JyJAkuzZ",
        "outputId": "bd53429a-ef27-4472-a87c-c590b679d625",
        "colab": {
          "base_uri": "https://localhost:8080/",
          "height": 536
        }
      },
      "outputs": [
        {
          "output_type": "display_data",
          "data": {
            "text/plain": [
              "<Figure size 1000x500 with 50 Axes>"
            ],
            "image/png": "[encoded data removed]"
          },
          "metadata": {}
        }
      ],
      "source": [
        "# Plot the first 50 samples\n",
        "fig = plt.figure(figsize=(10, 5))  \n",
        "fig.subplots_adjust(left=0, right=1, bottom=0, top=1, hspace=0.05, wspace=0.05) # make small panels\n",
        "\n",
        "for i in range(50):\n",
        "    ax = fig.add_subplot(5,10, i + 1, xticks=[], yticks=[])\n",
        "    ax.imshow(X_train[i].reshape(8,8), cmap=plt.cm.binary)\n",
        "    ax.text(0, 7, str(y_train[i]))  # label the image with the target value\n",
        "    \n",
        "plt.show()"
      ]
    },
    {
      "cell_type": "code",
      "execution_count": 11,
      "metadata": {
        "id": "Ox8dnQ8Zkuza",
        "outputId": "c8fc88f3-2d06-4a32-d0c3-8bee789f86b2",
        "colab": {
          "base_uri": "https://localhost:8080/"
        }
      },
      "outputs": [
        {
          "output_type": "execute_result",
          "data": {
            "text/plain": [
              "array([0, 1, 2, 3, 4, 5, 6, 7, 8, 9, 0, 1, 2, 3, 4, 5, 6, 7, 8, 9, 0, 1,\n",
              "       2, 3, 4, 5, 6, 7, 8, 9, 0, 9, 5, 5, 6, 5, 0, 9, 8, 9, 8, 4, 1, 7,\n",
              "       7, 3, 5, 1, 0, 0])"
            ]
          },
          "metadata": {},
          "execution_count": 11
        }
      ],
      "source": [
        "y_train[:50] # the true numbers in the training set"
      ]
    },
    {
      "cell_type": "code",
      "execution_count": 12,
      "metadata": {
        "id": "pMUtnFozkuza",
        "outputId": "f0cc23d4-7033-4c3f-aa9e-ffe6e42a8635",
        "colab": {
          "base_uri": "https://localhost:8080/"
        }
      },
      "outputs": [
        {
          "output_type": "stream",
          "name": "stdout",
          "text": [
            "Target\tCount\n",
            "0 \t 168\n",
            "1 \t 172\n",
            "2 \t 167\n",
            "3 \t 173\n",
            "4 \t 171\n",
            "5 \t 172\n",
            "6 \t 171\n",
            "7 \t 169\n",
            "8 \t 164\n",
            "9 \t 170\n"
          ]
        }
      ],
      "source": [
        "target,count = np.unique(y_train, return_counts=1)\n",
        "print(\"Target\\tCount\")\n",
        "for t,c in zip(target,count):\n",
        "    print(t,'\\t',c)"
      ]
    },
    {
      "cell_type": "markdown",
      "metadata": {
        "id": "adlPmcrskuzb"
      },
      "source": [
        "We have nearly equal numbers of all the digits in the training set"
      ]
    },
    {
      "cell_type": "markdown",
      "metadata": {
        "id": "omT39D70kuzc"
      },
      "source": [
        "Let's try training a classifier and seeing if it works"
      ]
    },
    {
      "cell_type": "markdown",
      "metadata": {
        "id": "Bf4yBDPnkuzc"
      },
      "source": [
        "# Classifier Performance\n",
        "### The Training Data"
      ]
    },
    {
      "cell_type": "code",
      "execution_count": 13,
      "metadata": {
        "id": "_WB94ghmkuzd",
        "outputId": "24bfee8c-b299-4571-dbe7-9a1ee6720648",
        "colab": {
          "base_uri": "https://localhost:8080/"
        }
      },
      "outputs": [
        {
          "output_type": "execute_result",
          "data": {
            "text/plain": [
              "0.8573954036535062"
            ]
          },
          "metadata": {},
          "execution_count": 13
        }
      ],
      "source": [
        "clf = naive_bayes.GaussianNB()\n",
        "clf.fit(X_train,y_train)  # only train on the training data!!!!!!!!!!!\n",
        "clf.score(X_train,y_train)"
      ]
    },
    {
      "cell_type": "markdown",
      "metadata": {
        "id": "4-F8BP3akuzd"
      },
      "source": [
        "The gaussian fits get 85.7% of the training data right.  Where did it go wrong?"
      ]
    },
    {
      "cell_type": "markdown",
      "metadata": {
        "id": "uVTqDKYDkuzd"
      },
      "source": [
        "### The Test Data\n",
        "The only fair way to evaluate a classifier is to use data **it hasn't been trained on**.  That's why we reserved 100 samples for a testing data set.  How well do we do with new samples the classifiers hasn't seen before?"
      ]
    },
    {
      "cell_type": "code",
      "execution_count": 14,
      "metadata": {
        "id": "0GVhMD__kuze",
        "outputId": "960a72f8-a0bc-4a0f-f2ea-fda2b1630cd6",
        "colab": {
          "base_uri": "https://localhost:8080/"
        }
      },
      "outputs": [
        {
          "output_type": "execute_result",
          "data": {
            "text/plain": [
              "0.87"
            ]
          },
          "metadata": {},
          "execution_count": 14
        }
      ],
      "source": [
        "clf.score(X_test,y_test)"
      ]
    },
    {
      "cell_type": "markdown",
      "metadata": {
        "id": "zpBEUjIZkuzf"
      },
      "source": [
        "We get 87% right!  Consistent scores between the test and train dataset are a good sign that we are not under or over fitting."
      ]
    },
    {
      "cell_type": "code",
      "source": [
        "y_pred = clf.predict(X_test)\n",
        "ConfusionMatrixDisplay.from_predictions(y_test, y_pred,cmap='Blues')\n",
        "plt.show()"
      ],
      "metadata": {
        "colab": {
          "base_uri": "https://localhost:8080/",
          "height": 455
        },
        "id": "iInqbr7do6zW",
        "outputId": "b2714462-927a-447c-e8f4-e1d6a3d5aa2b"
      },
      "execution_count": 15,
      "outputs": [
        {
          "output_type": "display_data",
          "data": {
            "text/plain": [
              "<Figure size 640x480 with 2 Axes>"
            ],
            "image/png": "[encoded data removed]"
          },
          "metadata": {}
        }
      ]
    },
    {
      "cell_type": "markdown",
      "metadata": {
        "id": "YRQCy77Nkuzf"
      },
      "source": [
        "We get a nice visualization of our mistakes. We often confuse 3's as 5's or 8's. So if I were going to try to improve performance then those are the places I would start."
      ]
    },
    {
      "cell_type": "code",
      "execution_count": 16,
      "metadata": {
        "id": "Clck8bVekuzh",
        "outputId": "37fa79f1-f444-481b-8312-61cd5de4645d",
        "colab": {
          "base_uri": "https://localhost:8080/"
        }
      },
      "outputs": [
        {
          "output_type": "stream",
          "name": "stdout",
          "text": [
            "Sample\tTruth\tPredicted\n",
            "11\t4\t7\n",
            "15\t3\t7\n",
            "20\t2\t8\n",
            "29\t3\t8\n",
            "30\t3\t8\n",
            "32\t3\t5\n",
            "33\t3\t8\n",
            "50\t1\t8\n",
            "54\t2\t8\n",
            "60\t1\t8\n",
            "68\t3\t5\n",
            "93\t8\t1\n",
            "97\t8\t1\n"
          ]
        }
      ],
      "source": [
        "# Find the miss-classified samples\n",
        "miss = []  # save missed sample numbers\n",
        "print('Sample\\tTruth\\tPredicted')\n",
        "for i,pred in enumerate(y_pred):\n",
        "    if pred!=y_test[i]:\n",
        "        print(f\"{i}\\t{y_test[i]}\\t{pred}\")\n",
        "        miss.append(i)"
      ]
    },
    {
      "cell_type": "code",
      "execution_count": 17,
      "metadata": {
        "id": "QoPwAUdBkuzh",
        "colab": {
          "base_uri": "https://localhost:8080/",
          "height": 259
        },
        "outputId": "da554266-32a6-43d8-c8f3-06376bb75dba"
      },
      "outputs": [
        {
          "output_type": "display_data",
          "data": {
            "text/plain": [
              "<Figure size 1500x300 with 5 Axes>"
            ],
            "image/png": "[encoded data removed]"
          },
          "metadata": {}
        }
      ],
      "source": [
        "# Plot the first 5 missed samples\n",
        "fig = plt.figure(figsize=(15, 3))  \n",
        "#fig.subplots_adjust(left=0, right=1, bottom=0, top=1, hspace=0.05, wspace=0.05) # make small panels\n",
        "\n",
        "for i in range(5):\n",
        "    m = miss[i]  # the sample number we are looking at\n",
        "    ax = fig.add_subplot(1,5, i + 1, xticks=[], yticks=[])\n",
        "    ax.imshow(X_test[m].reshape(8,8), cmap=plt.cm.binary)\n",
        "    plt.title(f\"Truth={y_test[m]}, Pred={y_pred[m]}\")\n",
        "    \n",
        "plt.show()"
      ]
    },
    {
      "cell_type": "markdown",
      "metadata": {
        "id": "LAb_Sa7wkuzi"
      },
      "source": [
        "Some of these are reasonable guesses, but some are pretty strange.\n",
        "\n",
        "In Homework 4 you will try to do better!"
      ]
    }
  ],
  "metadata": {
    "kernelspec": {
      "display_name": "Python 3",
      "language": "python",
      "name": "python3"
    },
    "language_info": {
      "codemirror_mode": {
        "name": "ipython",
        "version": 3
      },
      "file_extension": ".py",
      "mimetype": "text/x-python",
      "name": "python",
      "nbconvert_exporter": "python",
      "pygments_lexer": "ipython3",
      "version": "3.6.10"
    },
    "colab": {
      "provenance": [],
      "include_colab_link": true
    }
  },
  "nbformat": 4,
  "nbformat_minor": 0
}