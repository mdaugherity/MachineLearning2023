{
  "cells": [
    {
      "cell_type": "markdown",
      "metadata": {
        "id": "view-in-github",
        "colab_type": "text"
      },
      "source": [
        "<a href=\"https://colab.research.google.com/github/mdaugherity/MachineLearning2023/blob/main/HW5_Neural_Network_OCR.ipynb\" target=\"_parent\"><img src=\"https://colab.research.google.com/assets/colab-badge.svg\" alt=\"Open In Colab\"/></a>"
      ]
    },
    {
      "cell_type": "markdown",
      "metadata": {
        "id": "2cGqPxrpnzNb"
      },
      "source": [
        "Name: Dr D  \n",
        "Class: PHYS453\n",
        "\n",
        "\n",
        "# HW5 - Neural Network OCR\n",
        "Clever and/or funny title goes here.\n",
        "\n",
        "# Tasks\n",
        "The best for last: for our final homework assignment you will train a neural network to recognize your own handwriting.  \n",
        "1. Train an MLPClassifier on the digits dataset and find the expected accuracy (from test/train split)\n",
        "1. Load in a scanned image of your handwriting for the digits 0-9\n",
        "1. Demonstrate that your MLP can classify them with at least 50% accuracy, and discuss if your prediction accuracy is what you expected\n",
        "\n",
        "# Bonus Tasks (for extra credit)\n",
        "* Find the most similar digits in the dataset to your own handwriting\n",
        "* How does the neural network perform relative to the other classifiers from HW4?    \n",
        "\n",
        "# Notes\n",
        "* No, I will **not** tell you how to read image files in python.  The greatest skill you can have is learning how to google, read documentation, and make code work.  This is vital to practice before tackling our final projects.   \n",
        "* Don't forget to scale your data.  Both the digits dataset and your handwriting must be scaled the same way!\n",
        "\n"
      ]
    }
  ],
  "metadata": {
    "kernelspec": {
      "display_name": "Python 3",
      "language": "python",
      "name": "python3"
    },
    "language_info": {
      "codemirror_mode": {
        "name": "ipython",
        "version": 3
      },
      "file_extension": ".py",
      "mimetype": "text/x-python",
      "name": "python",
      "nbconvert_exporter": "python",
      "pygments_lexer": "ipython3",
      "version": "3.6.10"
    },
    "colab": {
      "provenance": [],
      "include_colab_link": true
    }
  },
  "nbformat": 4,
  "nbformat_minor": 0
}