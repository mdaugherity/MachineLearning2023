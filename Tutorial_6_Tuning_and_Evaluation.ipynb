{
  "nbformat": 4,
  "nbformat_minor": 0,
  "metadata": {
    "colab": {
      "provenance": [],
      "authorship_tag": "ABX9TyMaO5OWcMvp8Ce44v9yI39a",
      "include_colab_link": true
    },
    "kernelspec": {
      "name": "python3",
      "display_name": "Python 3"
    },
    "language_info": {
      "name": "python"
    }
  },
  "cells": [
    {
      "cell_type": "markdown",
      "metadata": {
        "id": "view-in-github",
        "colab_type": "text"
      },
      "source": [
        "<a href=\"https://colab.research.google.com/github/mdaugherity/MachineLearning2023/blob/main/Tutorial_6_Tuning_and_Evaluation.ipynb\" target=\"_parent\"><img src=\"https://colab.research.google.com/assets/colab-badge.svg\" alt=\"Open In Colab\"/></a>"
      ]
    },
    {
      "cell_type": "markdown",
      "source": [
        "Dr. Daugherity, PHYS 453"
      ],
      "metadata": {
        "id": "oK054uXxcz0I"
      }
    },
    {
      "cell_type": "code",
      "execution_count": 1,
      "metadata": {
        "id": "5YNe-hXVNiiW"
      },
      "outputs": [],
      "source": [
        "import numpy as np\n",
        "import matplotlib.pyplot as plt"
      ]
    },
    {
      "cell_type": "markdown",
      "source": [
        "# Tutorial 6 - Tuning and Evaluation\n",
        "\n",
        "\n",
        "We've already discussed some binary classification metrics in class and have played with evaluating mystery classifiers using the built-in reports: \n",
        "* User's Guide: https://scikit-learn.org/stable/modules/model_evaluation.html#classification-metrics\n",
        "* Classification Report: https://scikit-learn.org/stable/modules/generated/sklearn.metrics.classification_report.html#sklearn.metrics.classification_report\n",
        "* [Classifier Challenge](https://github.com/mdaugherity/MachineLearning2022/blob/main/Class/Class_1_28_2022_Classifier_Challenge.ipynb)\n",
        " \n",
        "Now we make this approach more official and see how to properly tune and evaluate classifiers.  Remember, the goal is to finish the overview of classification problems before we dive in to seeing how more classifiers actually work.\n",
        "\n"
      ],
      "metadata": {
        "id": "v2bIvnkyQS_1"
      }
    },
    {
      "cell_type": "markdown",
      "source": [
        "# Test/Train Split\n",
        "Our primary issue is how to fairly evaluate a classifier so we can avoid under/over-fitting and tune parameters. The key concept is to split the dataset and save a fraction as our \"test\" data that we **DO NOT FIT THE CLASSIFIER** with.\n",
        "\n",
        "<img src='https://scikit-learn.org/stable/_images/grid_search_workflow.png' width=500>\n",
        "\n",
        "**Reference**\n",
        "* https://scikit-learn.org/stable/modules/generated/sklearn.model_selection.train_test_split.html\n",
        "* https://scikit-learn.org/stable/modules/cross_validation.html  (figure source)"
      ],
      "metadata": {
        "id": "KTnCMvcx3VIH"
      }
    },
    {
      "cell_type": "code",
      "source": [
        "from sklearn.datasets import make_blobs\n",
        "from sklearn.model_selection import train_test_split"
      ],
      "metadata": {
        "id": "oiyBjkBPOzgC"
      },
      "execution_count": 2,
      "outputs": []
    },
    {
      "cell_type": "markdown",
      "source": [
        "## Random State\n",
        "Before we begin, it is important to understand how ```random_state``` works.  In a nutshell, there is no such thing as a random number in computing.  All random numbers are generated from a seed, and the same algorithm with the same seed produces the same list of numbers.  It is sometimes convenient to get set the seed with ```random_state``` to get the same results while you are working.  Common values are 0,1, 42, or other sci-fi / pop-culture references.  \n",
        "\n",
        "A good analogy is to think about a book filled with numbers.  Setting random_state tells the program which page of the book to use.  \n",
        "\n",
        "For more detail, read section 10.3 in https://scikit-learn.org/stable/common_pitfalls.html"
      ],
      "metadata": {
        "id": "hxd1r9eZTTpM"
      }
    },
    {
      "cell_type": "code",
      "source": [
        "# Run this with and without random_state\n",
        "#X,y = make_blobs(centers=2, random_state=0)\n",
        "X,y = make_blobs(centers=2)\n",
        "\n",
        "plt.scatter(X[:,0], X[:,1],c=y,cmap='bwr')\n",
        "plt.show()"
      ],
      "metadata": {
        "colab": {
          "base_uri": "https://localhost:8080/",
          "height": 265
        },
        "id": "eOv65WAgO3ww",
        "outputId": "ec95c802-209a-4bdf-f398-2c897a7646ef"
      },
      "execution_count": 3,
      "outputs": [
        {
          "output_type": "display_data",
          "data": {
            "text/plain": [
              "<Figure size 432x288 with 1 Axes>"
            ],
            "image/png": "[encoded data removed]"
          },
          "metadata": {
            "needs_background": "light"
          }
        }
      ]
    },
    {
      "cell_type": "code",
      "source": [
        "# Run this with and without random_state\n",
        "#X_train, X_test, y_train, y_test = train_test_split(X, y, test_size=0.25)\n",
        "X_train, X_test, y_train, y_test = train_test_split(X, y, test_size=0.2, random_state=0)\n",
        "print(y.shape, y_train.shape, y_test.shape)\n",
        "\n",
        "plt.figure(figsize=(8,6))\n",
        "plt.scatter(X_train[:,0], X_train[:,1],marker='.',c=y_train,cmap='bwr',label='Train', alpha=0.25)\n",
        "plt.scatter(X_test[:,0], X_test[:,1],marker='o',edgecolor='k',c=y_test,cmap='bwr',label='Test')\n",
        "plt.legend()\n",
        "\n",
        "plt.show()"
      ],
      "metadata": {
        "colab": {
          "base_uri": "https://localhost:8080/",
          "height": 392
        },
        "id": "YnHJel62dSRy",
        "outputId": "456d1516-fe98-4d67-bb7a-384a03e8e05f"
      },
      "execution_count": 4,
      "outputs": [
        {
          "output_type": "stream",
          "name": "stdout",
          "text": [
            "(100,) (80,) (20,)\n"
          ]
        },
        {
          "output_type": "display_data",
          "data": {
            "text/plain": [
              "<Figure size 576x432 with 1 Axes>"
            ],
            "image/png": "[encoded data removed]"
          },
          "metadata": {
            "needs_background": "light"
          }
        }
      ]
    },
    {
      "cell_type": "markdown",
      "source": [
        "# Choosing the right values (tuning parameters)\n",
        "Essentially all classifiers have parameters you can tune to improve performance.  For example, how do we choose k for kNearestNeighbors?"
      ],
      "metadata": {
        "id": "87t7zb7Qi4ho"
      }
    },
    {
      "cell_type": "code",
      "source": [
        "from sklearn import datasets\n",
        "from sklearn import neighbors\n",
        "from sklearn import model_selection"
      ],
      "metadata": {
        "id": "COUDemGri9HK"
      },
      "execution_count": 5,
      "outputs": []
    },
    {
      "cell_type": "code",
      "source": [
        "data = datasets.load_iris()\n",
        "print('Features:\\t',data.feature_names)\n",
        "print('Targets:\\t',data.target_names)\n",
        "\n",
        "X = data.data\n",
        "y = data.target"
      ],
      "metadata": {
        "colab": {
          "base_uri": "https://localhost:8080/"
        },
        "id": "GdtApiVVi_P-",
        "outputId": "27facaba-342c-4b36-9132-0b5c508812be"
      },
      "execution_count": 6,
      "outputs": [
        {
          "output_type": "stream",
          "name": "stdout",
          "text": [
            "Features:\t ['sepal length (cm)', 'sepal width (cm)', 'petal length (cm)', 'petal width (cm)']\n",
            "Targets:\t ['setosa' 'versicolor' 'virginica']\n"
          ]
        }
      ]
    },
    {
      "cell_type": "code",
      "source": [
        "clf = neighbors.KNeighborsClassifier(n_neighbors=5)   # how many to pick?"
      ],
      "metadata": {
        "id": "gqeEpNJOjfff"
      },
      "execution_count": 7,
      "outputs": []
    },
    {
      "cell_type": "markdown",
      "source": [
        "# Example 1 - Test/Train Split \n",
        "We'll start by doing things the hard way for transparency.  The basic approach is:\n",
        "1.  Split the data into testing and training sets\n",
        "1.  Call ```fit``` on training data\n",
        "1.  Score the classifier on the testing data \n",
        "1.  Use brutal force to try lots of options and pick the best one\n",
        "\n",
        "Play with this code below.  Notice how the results depend on test_size and can be VERY sensitive on random_state.\n"
      ],
      "metadata": {
        "id": "-xoqUHOGjNcq"
      }
    },
    {
      "cell_type": "code",
      "source": [
        "#data = datasets.load_iris()\n",
        "data = datasets.load_breast_cancer()\n",
        "X = data.data\n",
        "y = data.target\n",
        "\n",
        "# Run this with and without random_state\n",
        "X_train, X_test, y_train, y_test = model_selection.train_test_split(X, y, test_size=0.2)#random_state=1)\n",
        "print(X.shape)\n",
        "\n",
        "KLIST = np.arange(1,16)\n",
        "\n",
        "train_scores = []\n",
        "test_scores = []\n",
        "for k in KLIST:\n",
        "  clf = neighbors.KNeighborsClassifier(n_neighbors=k)\n",
        "  clf.fit(X_train,y_train)\n",
        "  \n",
        "  test_score = clf.score(X_test,y_test)\n",
        "  train_score = clf.score(X_train,y_train)\n",
        "  #print(k, train_score, test_score)\n",
        "  train_scores.append(train_score)\n",
        "  test_scores.append(test_score)\n",
        "\n",
        "plt.plot(KLIST, train_scores, label='Training Accuracy')\n",
        "plt.plot(KLIST, test_scores, label='Testing Accuracy')\n",
        "plt.legend()\n",
        "plt.xlabel('Neighbors')\n",
        "plt.ylabel('Accuracy')\n",
        "plt.title('Tuning k')\n",
        "plt.show()"
      ],
      "metadata": {
        "colab": {
          "base_uri": "https://localhost:8080/",
          "height": 313
        },
        "id": "inPfE_xIjHbJ",
        "outputId": "906b52d6-5fe0-4a42-80cf-70a4ae7eb1e9"
      },
      "execution_count": 8,
      "outputs": [
        {
          "output_type": "stream",
          "name": "stdout",
          "text": [
            "(569, 30)\n"
          ]
        },
        {
          "output_type": "display_data",
          "data": {
            "text/plain": [
              "<Figure size 432x288 with 1 Axes>"
            ],
            "image/png": "[encoded data removed]"
          },
          "metadata": {
            "needs_background": "light"
          }
        }
      ]
    },
    {
      "cell_type": "markdown",
      "source": [
        "# Example 2 - Cross Valildation Grid Search\n",
        "\n",
        "A great way to get more consistent results is to use **cross validation**.  We do the process 5 times and average over the results to ensure that the entire training data set gets used.\n",
        "\n",
        "As always, we DO NOT PEEK at the test data until we have completely finalized our classifier.\n",
        "\n",
        "<img src='https://scikit-learn.org/stable/_images/grid_search_cross_validation.png' width=500>\n",
        "\n",
        "In this example below, we'll see how cross validation gives more stable results than the previous example.\n",
        "\n",
        "**References:**\n",
        "* https://scikit-learn.org/stable/modules/cross_validation.html#multimetric-cross-validation\n",
        "* https://scikit-learn.org/stable/modules/generated/sklearn.model_selection.GridSearchCV.html#sklearn.model_selection.GridSearchCV\n",
        "\n",
        "\n",
        "\n"
      ],
      "metadata": {
        "id": "lPyoBkaom0FT"
      }
    },
    {
      "cell_type": "code",
      "source": [
        "# Quick demo: see how cross_val_score returns a score for each \"fold\"\n",
        "clf = neighbors.KNeighborsClassifier(n_neighbors=5)\n",
        "clf.fit(X_train,y_train)\n",
        "model_selection.cross_val_score(clf,X_train,y_train)"
      ],
      "metadata": {
        "colab": {
          "base_uri": "https://localhost:8080/"
        },
        "id": "xCmqvDEtoL6Z",
        "outputId": "49915d47-c60e-409a-d21b-8310e4c24698"
      },
      "execution_count": 9,
      "outputs": [
        {
          "output_type": "execute_result",
          "data": {
            "text/plain": [
              "array([0.9010989 , 0.89010989, 0.91208791, 0.95604396, 0.93406593])"
            ]
          },
          "metadata": {},
          "execution_count": 9
        }
      ]
    },
    {
      "cell_type": "code",
      "source": [
        "#data = datasets.load_breast_cancer()\n",
        "data = datasets.load_iris()\n",
        "X = data.data\n",
        "y = data.target\n",
        "X_train, X_test, y_train, y_test = model_selection.train_test_split(X, y, test_size=0.25)  #random_state=1)\n",
        "#print(X.shape)\n",
        "\n",
        "# Set up parameters to try\n",
        "KLIST = np.arange(1,16)\n",
        "params = {'n_neighbors':KLIST}\n",
        "print('Parameters to try:',params)\n",
        "\n",
        "grid_clf = model_selection.GridSearchCV(neighbors.KNeighborsClassifier(), param_grid=params)\n",
        "grid_clf.fit(X,y)\n",
        "\n",
        "print('Best estimator:', grid_clf.best_estimator_)\n",
        "print('Best parameters:', grid_clf.best_params_)\n",
        "print('Best score:', grid_clf.best_score_)"
      ],
      "metadata": {
        "colab": {
          "base_uri": "https://localhost:8080/"
        },
        "id": "_Qo29RtEux0O",
        "outputId": "b60e046e-88a9-4e99-eefb-b7469542f9f1"
      },
      "execution_count": 15,
      "outputs": [
        {
          "output_type": "stream",
          "name": "stdout",
          "text": [
            "Parameters to try: {'n_neighbors': array([ 1,  2,  3,  4,  5,  6,  7,  8,  9, 10, 11, 12, 13, 14, 15])}\n",
            "Best estimator: KNeighborsClassifier(n_neighbors=6)\n",
            "Best parameters: {'n_neighbors': 6}\n",
            "Best score: 0.9800000000000001\n"
          ]
        }
      ]
    },
    {
      "cell_type": "markdown",
      "source": [
        "## Diving In\n",
        "The above example shows how quick and easy it is to get a result using GridSearchCV.  Below are totally unnecesary examples of how to dive in to the search results and see what happened. "
      ],
      "metadata": {
        "id": "ak9MVMFhZVid"
      }
    },
    {
      "cell_type": "code",
      "source": [
        "# Wow, look at all of this\n",
        "grid_clf.cv_results_"
      ],
      "metadata": {
        "colab": {
          "base_uri": "https://localhost:8080/"
        },
        "id": "I8ZIJDxvxDDG",
        "outputId": "ced4b281-001c-4b94-af4e-577150815f64"
      },
      "execution_count": 16,
      "outputs": [
        {
          "output_type": "execute_result",
          "data": {
            "text/plain": [
              "{'mean_fit_time': array([0.00077038, 0.00058212, 0.00058093, 0.00058026, 0.00053544,\n",
              "        0.0005281 , 0.00070686, 0.0005147 , 0.00059152, 0.00054164,\n",
              "        0.00055442, 0.00053048, 0.0005517 , 0.00051789, 0.00063992]),\n",
              " 'std_fit_time': array([2.61872152e-04, 2.45140680e-05, 1.01367393e-04, 7.00287603e-05,\n",
              "        2.06638360e-05, 1.09309133e-05, 1.54589651e-04, 1.67038718e-05,\n",
              "        1.09355302e-04, 1.75592653e-05, 3.44927007e-05, 1.46358717e-05,\n",
              "        3.01204864e-05, 1.06243770e-05, 1.75785422e-04]),\n",
              " 'mean_score_time': array([0.00193787, 0.00176535, 0.00195541, 0.00168943, 0.00165505,\n",
              "        0.00163698, 0.00186939, 0.00166717, 0.0016335 , 0.00162249,\n",
              "        0.00183868, 0.00167646, 0.00176201, 0.00161018, 0.00274758]),\n",
              " 'std_score_time': array([1.31067348e-04, 1.90937804e-04, 3.69853897e-04, 6.88654226e-05,\n",
              "        7.92851871e-05, 9.30733122e-05, 2.01953310e-04, 9.49991506e-05,\n",
              "        7.38615371e-05, 3.43509464e-05, 1.61975975e-04, 1.05724982e-04,\n",
              "        1.47720858e-04, 9.58383378e-06, 1.81853556e-03]),\n",
              " 'param_n_neighbors': masked_array(data=[1, 2, 3, 4, 5, 6, 7, 8, 9, 10, 11, 12, 13, 14, 15],\n",
              "              mask=[False, False, False, False, False, False, False, False,\n",
              "                    False, False, False, False, False, False, False],\n",
              "        fill_value='?',\n",
              "             dtype=object),\n",
              " 'params': [{'n_neighbors': 1},\n",
              "  {'n_neighbors': 2},\n",
              "  {'n_neighbors': 3},\n",
              "  {'n_neighbors': 4},\n",
              "  {'n_neighbors': 5},\n",
              "  {'n_neighbors': 6},\n",
              "  {'n_neighbors': 7},\n",
              "  {'n_neighbors': 8},\n",
              "  {'n_neighbors': 9},\n",
              "  {'n_neighbors': 10},\n",
              "  {'n_neighbors': 11},\n",
              "  {'n_neighbors': 12},\n",
              "  {'n_neighbors': 13},\n",
              "  {'n_neighbors': 14},\n",
              "  {'n_neighbors': 15}],\n",
              " 'split0_test_score': array([0.96666667, 0.96666667, 0.96666667, 0.96666667, 0.96666667,\n",
              "        0.96666667, 0.96666667, 0.96666667, 0.96666667, 0.96666667,\n",
              "        0.93333333, 0.93333333, 0.93333333, 0.93333333, 0.93333333]),\n",
              " 'split1_test_score': array([0.96666667, 0.93333333, 0.96666667, 0.96666667, 1.        ,\n",
              "        1.        , 1.        , 1.        , 1.        , 1.        ,\n",
              "        1.        , 1.        , 1.        , 1.        , 1.        ]),\n",
              " 'split2_test_score': array([0.93333333, 0.93333333, 0.93333333, 0.96666667, 0.93333333,\n",
              "        0.96666667, 0.96666667, 0.93333333, 0.96666667, 1.        ,\n",
              "        1.        , 1.        , 0.96666667, 0.96666667, 0.93333333]),\n",
              " 'split3_test_score': array([0.93333333, 0.9       , 0.96666667, 0.96666667, 0.96666667,\n",
              "        0.96666667, 0.96666667, 0.93333333, 0.93333333, 0.93333333,\n",
              "        0.96666667, 0.96666667, 0.96666667, 0.93333333, 0.96666667]),\n",
              " 'split4_test_score': array([1., 1., 1., 1., 1., 1., 1., 1., 1., 1., 1., 1., 1., 1., 1.]),\n",
              " 'mean_test_score': array([0.96      , 0.94666667, 0.96666667, 0.97333333, 0.97333333,\n",
              "        0.98      , 0.98      , 0.96666667, 0.97333333, 0.98      ,\n",
              "        0.98      , 0.98      , 0.97333333, 0.96666667, 0.96666667]),\n",
              " 'std_test_score': array([0.02494438, 0.03399346, 0.02108185, 0.01333333, 0.02494438,\n",
              "        0.01632993, 0.01632993, 0.02981424, 0.02494438, 0.02666667,\n",
              "        0.02666667, 0.02666667, 0.02494438, 0.02981424, 0.02981424]),\n",
              " 'rank_test_score': array([14, 15, 10,  6,  6,  1,  1, 10,  6,  1,  1,  1,  6, 13, 10],\n",
              "       dtype=int32)}"
            ]
          },
          "metadata": {},
          "execution_count": 16
        }
      ]
    },
    {
      "cell_type": "code",
      "source": [
        "# Plot the results\n",
        "res = grid_clf.cv_results_\n",
        "#print(res['mean_test_score'])\n",
        "\n",
        "plt.plot(KLIST,res['mean_test_score'])\n",
        "plt.title('Grid CV Results')\n",
        "plt.xlabel('n_neighbors')\n",
        "plt.ylabel('Mean Test Score')\n",
        "plt.xticks(ticks=KLIST, labels=KLIST)\n",
        "plt.grid()\n",
        "plt.show()"
      ],
      "metadata": {
        "colab": {
          "base_uri": "https://localhost:8080/",
          "height": 296
        },
        "id": "xsk-4etrxsrm",
        "outputId": "9641650e-c8c0-4f18-e98f-b050d10c150b"
      },
      "execution_count": 37,
      "outputs": [
        {
          "output_type": "display_data",
          "data": {
            "text/plain": [
              "<Figure size 432x288 with 1 Axes>"
            ],
            "image/png": "[encoded data removed]"
          },
          "metadata": {
            "needs_background": "light"
          }
        }
      ]
    },
    {
      "cell_type": "markdown",
      "source": [
        "# Conclusion\n",
        "* Use a test/train split to evaulate your classifier.  \n",
        "* Do a CV Grid Search on the training data to tune parameters"
      ],
      "metadata": {
        "id": "Nl7zYHW6aS45"
      }
    }
  ]
}